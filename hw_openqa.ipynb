{
 "cells": [
  {
   "cell_type": "markdown",
   "id": "cf85bea0-68bf-4405-96ec-37579b2e9587",
   "metadata": {},
   "source": [
    "# Homework and bakeoff: Few-shot OpenQA with DSP"
   ]
  },
  {
   "cell_type": "code",
   "execution_count": 4,
   "id": "a28e9bf5-7956-4c63-9129-7f2cbc468075",
   "metadata": {},
   "outputs": [],
   "source": [
    "__author__ = \"Christopher Potts and Omar Khattab\"\n",
    "__version__ = \"CS224u, Stanford, Spring 2023\""
   ]
  },
  {
   "cell_type": "markdown",
   "id": "b7b5d964-a45c-496a-bb46-8f31d7b2d591",
   "metadata": {},
   "source": [
    "[![Open In Colab](https://colab.research.google.com/assets/colab-badge.svg)](https://colab.research.google.com/github/cgpotts/cs224u/blob/master/hw_openqa.ipynb)\n",
    "[![Open in SageMaker Studio Lab](https://studiolab.sagemaker.aws/studiolab.svg)](https://studiolab.sagemaker.aws/import/github/cgpotts/cs224u/blob/master/hw_openqa.ipynb)\n",
    "\n",
    "If Colab is opened with this badge, please **save a copy to drive** (from the File menu) before running the notebook."
   ]
  },
  {
   "cell_type": "markdown",
   "id": "d8570fc5-2ac0-4c0e-b350-71990937ebd8",
   "metadata": {},
   "source": [
    "## Overview"
   ]
  },
  {
   "cell_type": "markdown",
   "id": "f4da2d82-8c54-4d41-a59d-891f83f85f6e",
   "metadata": {},
   "source": [
    "The goal of this homework is to explore retrieval-augmented in-context learning. This is an exciting area that brings together a number of recent task ideas and modeling innovations. We will use the [DSP programming library](https://github.com/stanfordnlp/dsp) to build systems in this new mode.\n",
    "\n",
    "Our core task is __open-domain question answering (OpenQA)__. In this task, all that is given by the dataset is a question text, and the task is to answer that question. By contrast, in modern QA tasks, the dataset provides a text and a gold passage, usually with a firm guarantee that the answer will be a substring of the passage. \n",
    "\n",
    "OpenQA is substantially harder than standard QA. The usual strategy is to use a _retriever_ to find passages in a large collection of texts and train a _reader_ to find answers in those passages. This means we have no guarantee that the retrieved passage will contain the answer we need. If we don't retrieve a passage containing the answer, our reader has no hope of succeeding. Although this is challenging, it is much more realistic and widely applicable than standard QA. After all, with the right retriever, an OpenQA system could be deployed over the entire Web.\n",
    "\n",
    "The task posed by this homework is harder even than OpenQA. We are calling this task __few-shot OpenQA__. The defining feature of this task is that the reader is simply a frozen, general purpose language model. It accepts string inputs (prompts) and produces text in response. It is not trained to answer questions per se, and nothing about its structure ensures that it will respond with a substring of the prompt corresponding to anything like an answer.\n",
    "\n",
    "__Few-shot QA__ (but not OpenQA!) is explored in the famous GPT-3 paper ([Brown et al. 2020](https://arxiv.org/abs/2005.14165)). The authors are able to get traction on the problem using GPT-3, an incredible finding. Our task here – __few-shot OpenQA__ – pushes this even further by retrieving passages to use in the prompt rather than assuming that the gold passage can be used in the prompt. If we can make this work, then it should be a major step towards flexibly and easily deploying QA technologies in new domains.\n",
    "\n",
    "In summary:\n",
    "\n",
    "| Task             | Passage given | Task-specific reader training |Task-specific retriever training  | \n",
    "|-----------------:|:-------------:|:-----------------------------:|:--------------------------------:|\n",
    "| QA               | yes           | yes                           | n/a                              |\n",
    "| OpenQA           | no            | yes                           | maybe                            |\n",
    "| Few-shot QA      | yes           | no                            | n/a                              |\n",
    "| Few-shot OpenQA  | no            | no                            | maybe                            | \n",
    "\n",
    "Just to repeat: your mission is to explore the final line in this table. The core notebook and assignment don't address the issue of training the retriever in a task-specific way, but this is something you could pursue for a final project; [the ColBERT codebase](https://github.com/stanford-futuredata/ColBERT) makes easy.\n",
    "\n",
    "As usual, this notebook sets up the task and provides starter code. We will be relying on the DSP library, which allows us to define retrieval-augmented in-context learning systems in code. We first provide two fully implemented examples:\n",
    "\n",
    "* _Few-shot OpenQA_: The given input is a question and the goal is to provide an answer. Some _demonstration_ Q/A pairs are sampled from a train set (in our case, SQuAD).\n",
    "\n",
    "* _Few-shot QA with context_: The given input is a question with an associated evidence passage, and the goal is to provide an answer. The _demonstrations_ are now Q/A pairs with associated gold evidence passages. These are sampled from a train set (in our case, SQuAD).\n",
    "\n",
    "The above examples are followed by some assignment questions aimed at helping you to think creatively about the problem. The first of these defines a core system for our target task:\n",
    "\n",
    "* _Few-shot OpenQA with context_: This is like _few-shot QA with context_ except the passages are now retrieved from a large search index using ColBERT. \n",
    "\n",
    "The second question illustrates how to use the powerful DSP `annotate` function to improve the set of demonstrations used by the system.\n",
    "\n",
    "It is a requirement of the bake-off that a general-purpose language model be used. In particular, trained QA systems cannot be used at all, and no fine-tuning is allowed either. See the original system question at the bottom of this message for guidance on which models are allowed.\n",
    "\n",
    "Note: the models we are working with here are _big_. This poses a challenge that is increasingly common in NLP: you have to pay one way or another. You can pay to use the GPT-3 API, or you can pay to use an Eleuther model on a heavy-duty cluster computer, or you can pay with time by using an Eleuther model on a more modest computer.  __For now, though, the Cohere models are free to use, so they should be your first choice; see [setup.ipynb](setup.ipynb) if you don't have an account__."
   ]
  },
  {
   "cell_type": "markdown",
   "id": "0cd32bb4-067f-4cd6-943f-3e5574400beb",
   "metadata": {},
   "source": [
    "## Set-up"
   ]
  },
  {
   "cell_type": "markdown",
   "id": "149bcb0f-bc76-4277-a359-742d6dcee063",
   "metadata": {},
   "source": [
    "We have sought to make this notebook self-contained and easy to use on a personal computer, on Google Colab, and in Sagemaker Studio. For personal computer use, we assume you have already done everything in [setup.ipynb](setup.ipynb]). For cloud usage, the next few code blocks should handle all set-up steps."
   ]
  },
  {
   "cell_type": "code",
   "execution_count": 5,
   "id": "62b983bb-a20a-4c2a-9eee-9c553dd8c070",
   "metadata": {},
   "outputs": [],
   "source": [
    "try: \n",
    "    # This library is our indicator that the required installs\n",
    "    # need to be done.\n",
    "    import datasets\n",
    "    root_path = '.'\n",
    "except ModuleNotFoundError:\n",
    "    !git clone https://github.com/cgpotts/cs224u/\n",
    "    !pip install -r cs224u/requirements.txt\n",
    "    root_path = 'dsp'"
   ]
  },
  {
   "cell_type": "code",
   "execution_count": 6,
   "id": "a04cb488-cd40-4f9d-b884-8ff83b012042",
   "metadata": {},
   "outputs": [],
   "source": [
    "import cohere\n",
    "from datasets import load_dataset\n",
    "import openai\n",
    "import os\n",
    "import dsp"
   ]
  },
  {
   "cell_type": "code",
   "execution_count": 7,
   "id": "c9da704b-d27b-480a-93b5-e16cf7c51803",
   "metadata": {},
   "outputs": [],
   "source": [
    "os.environ[\"DSP_NOTEBOOK_CACHEDIR\"] = os.path.join(root_path, 'cache')\n",
    "\n",
    "openai_key = os.getenv('OPENAI_API_KEY')  # or replace with your API key (optional)\n",
    "\n",
    "# cohere_key = os.getenv('COHERE_API_KEY')  # or replace with your API key (optional)\n",
    "cohere_key = '1cQc2Cnf21vsrfYYsR4Y3rWnr0EtUxzV4sW7MWJG'\n",
    "\n",
    "colbert_server = 'http://index.contextual.ai:8893/api/search'"
   ]
  },
  {
   "cell_type": "markdown",
   "id": "562fc500-bbab-48b7-a704-67c6d57bb09b",
   "metadata": {},
   "source": [
    "Here we establish the Language Model `lm` and Retriever Model `rm` that we will be using. The defaults for `lm` are just for development. You may want to develop using an inexpensive model and then do your final evalautions wih an expensive one."
   ]
  },
  {
   "cell_type": "code",
   "execution_count": 8,
   "id": "c118b014-e13f-433d-ad60-074636c7e738",
   "metadata": {},
   "outputs": [],
   "source": [
    "# lm = dsp.GPT3(model='text-davinci-001', api_key=openai_key)\n",
    "\n",
    "# Options for Cohere: command-medium-nightly, command-xlarge-nightly\n",
    "lm = dsp.Cohere(model='command-xlarge-nightly', api_key=cohere_key)\n",
    "\n",
    "rm = dsp.ColBERTv2(url=colbert_server)\n",
    "\n",
    "dsp.settings.configure(lm=lm, rm=rm)"
   ]
  },
  {
   "cell_type": "markdown",
   "id": "711785d7-6bb9-4041-92e6-cc5f9308477e",
   "metadata": {},
   "source": [
    "Here's a command you can run to see which OpenAI models are available; OpenAI has entered into an increasingly closed mode where many older models are not available, so there are likely to be some surprises lurking here:"
   ]
  },
  {
   "cell_type": "code",
   "execution_count": 9,
   "id": "8a859fbb-e985-4031-b8ed-34f3b034db8d",
   "metadata": {},
   "outputs": [
    {
     "ename": "AuthenticationError",
     "evalue": "No API key provided. You can set your API key in code using 'openai.api_key = <API-KEY>', or you can set the environment variable OPENAI_API_KEY=<API-KEY>). If your API key is stored in a file, you can point the openai module at it with 'openai.api_key_path = <PATH>'. You can generate API keys in the OpenAI web interface. See https://platform.openai.com/account/api-keys for details.",
     "output_type": "error",
     "traceback": [
      "\u001b[0;31m---------------------------------------------------------------------------\u001b[0m",
      "\u001b[0;31mAuthenticationError\u001b[0m                       Traceback (most recent call last)",
      "\u001b[1;32m/Users/zanqiliang/cs224u/hw_openqa.ipynb Cell 14\u001b[0m line \u001b[0;36m1\n\u001b[0;32m----> <a href='vscode-notebook-cell:/Users/zanqiliang/cs224u/hw_openqa.ipynb#Y525sZmlsZQ%3D%3D?line=0'>1</a>\u001b[0m [d[\u001b[39m\"\u001b[39m\u001b[39mroot\u001b[39m\u001b[39m\"\u001b[39m] \u001b[39mfor\u001b[39;00m d \u001b[39min\u001b[39;00m openai\u001b[39m.\u001b[39;49mModel\u001b[39m.\u001b[39;49mlist()[\u001b[39m\"\u001b[39m\u001b[39mdata\u001b[39m\u001b[39m\"\u001b[39m]]\n",
      "File \u001b[0;32m~/.pyenv/versions/3.11.5/lib/python3.11/site-packages/openai/api_resources/abstract/listable_api_resource.py:52\u001b[0m, in \u001b[0;36mListableAPIResource.list\u001b[0;34m(cls, api_key, request_id, api_version, organization, api_base, api_type, **params)\u001b[0m\n\u001b[1;32m     41\u001b[0m \u001b[39m@classmethod\u001b[39m\n\u001b[1;32m     42\u001b[0m \u001b[39mdef\u001b[39;00m \u001b[39mlist\u001b[39m(\n\u001b[1;32m     43\u001b[0m     \u001b[39mcls\u001b[39m,\n\u001b[0;32m   (...)\u001b[0m\n\u001b[1;32m     50\u001b[0m     \u001b[39m*\u001b[39m\u001b[39m*\u001b[39mparams,\n\u001b[1;32m     51\u001b[0m ):\n\u001b[0;32m---> 52\u001b[0m     requestor, url \u001b[39m=\u001b[39m \u001b[39mcls\u001b[39;49m\u001b[39m.\u001b[39;49m__prepare_list_requestor(\n\u001b[1;32m     53\u001b[0m         api_key,\n\u001b[1;32m     54\u001b[0m         api_version,\n\u001b[1;32m     55\u001b[0m         organization,\n\u001b[1;32m     56\u001b[0m         api_base,\n\u001b[1;32m     57\u001b[0m         api_type,\n\u001b[1;32m     58\u001b[0m     )\n\u001b[1;32m     60\u001b[0m     response, _, api_key \u001b[39m=\u001b[39m requestor\u001b[39m.\u001b[39mrequest(\n\u001b[1;32m     61\u001b[0m         \u001b[39m\"\u001b[39m\u001b[39mget\u001b[39m\u001b[39m\"\u001b[39m, url, params, request_id\u001b[39m=\u001b[39mrequest_id\n\u001b[1;32m     62\u001b[0m     )\n\u001b[1;32m     63\u001b[0m     openai_object \u001b[39m=\u001b[39m util\u001b[39m.\u001b[39mconvert_to_openai_object(\n\u001b[1;32m     64\u001b[0m         response, api_key, api_version, organization\n\u001b[1;32m     65\u001b[0m     )\n",
      "File \u001b[0;32m~/.pyenv/versions/3.11.5/lib/python3.11/site-packages/openai/api_resources/abstract/listable_api_resource.py:20\u001b[0m, in \u001b[0;36mListableAPIResource.__prepare_list_requestor\u001b[0;34m(cls, api_key, api_version, organization, api_base, api_type)\u001b[0m\n\u001b[1;32m     11\u001b[0m \u001b[39m@classmethod\u001b[39m\n\u001b[1;32m     12\u001b[0m \u001b[39mdef\u001b[39;00m \u001b[39m__prepare_list_requestor\u001b[39m(\n\u001b[1;32m     13\u001b[0m     \u001b[39mcls\u001b[39m,\n\u001b[0;32m   (...)\u001b[0m\n\u001b[1;32m     18\u001b[0m     api_type\u001b[39m=\u001b[39m\u001b[39mNone\u001b[39;00m,\n\u001b[1;32m     19\u001b[0m ):\n\u001b[0;32m---> 20\u001b[0m     requestor \u001b[39m=\u001b[39m api_requestor\u001b[39m.\u001b[39;49mAPIRequestor(\n\u001b[1;32m     21\u001b[0m         api_key,\n\u001b[1;32m     22\u001b[0m         api_base\u001b[39m=\u001b[39;49mapi_base \u001b[39mor\u001b[39;49;00m \u001b[39mcls\u001b[39;49m\u001b[39m.\u001b[39;49mapi_base(),\n\u001b[1;32m     23\u001b[0m         api_version\u001b[39m=\u001b[39;49mapi_version,\n\u001b[1;32m     24\u001b[0m         api_type\u001b[39m=\u001b[39;49mapi_type,\n\u001b[1;32m     25\u001b[0m         organization\u001b[39m=\u001b[39;49morganization,\n\u001b[1;32m     26\u001b[0m     )\n\u001b[1;32m     28\u001b[0m     typed_api_type, api_version \u001b[39m=\u001b[39m \u001b[39mcls\u001b[39m\u001b[39m.\u001b[39m_get_api_type_and_version(\n\u001b[1;32m     29\u001b[0m         api_type, api_version\n\u001b[1;32m     30\u001b[0m     )\n\u001b[1;32m     32\u001b[0m     \u001b[39mif\u001b[39;00m typed_api_type \u001b[39min\u001b[39;00m (ApiType\u001b[39m.\u001b[39mAZURE, ApiType\u001b[39m.\u001b[39mAZURE_AD):\n",
      "File \u001b[0;32m~/.pyenv/versions/3.11.5/lib/python3.11/site-packages/openai/api_requestor.py:138\u001b[0m, in \u001b[0;36mAPIRequestor.__init__\u001b[0;34m(self, key, api_base, api_type, api_version, organization)\u001b[0m\n\u001b[1;32m    129\u001b[0m \u001b[39mdef\u001b[39;00m \u001b[39m__init__\u001b[39m(\n\u001b[1;32m    130\u001b[0m     \u001b[39mself\u001b[39m,\n\u001b[1;32m    131\u001b[0m     key\u001b[39m=\u001b[39m\u001b[39mNone\u001b[39;00m,\n\u001b[0;32m   (...)\u001b[0m\n\u001b[1;32m    135\u001b[0m     organization\u001b[39m=\u001b[39m\u001b[39mNone\u001b[39;00m,\n\u001b[1;32m    136\u001b[0m ):\n\u001b[1;32m    137\u001b[0m     \u001b[39mself\u001b[39m\u001b[39m.\u001b[39mapi_base \u001b[39m=\u001b[39m api_base \u001b[39mor\u001b[39;00m openai\u001b[39m.\u001b[39mapi_base\n\u001b[0;32m--> 138\u001b[0m     \u001b[39mself\u001b[39m\u001b[39m.\u001b[39mapi_key \u001b[39m=\u001b[39m key \u001b[39mor\u001b[39;00m util\u001b[39m.\u001b[39;49mdefault_api_key()\n\u001b[1;32m    139\u001b[0m     \u001b[39mself\u001b[39m\u001b[39m.\u001b[39mapi_type \u001b[39m=\u001b[39m (\n\u001b[1;32m    140\u001b[0m         ApiType\u001b[39m.\u001b[39mfrom_str(api_type)\n\u001b[1;32m    141\u001b[0m         \u001b[39mif\u001b[39;00m api_type\n\u001b[1;32m    142\u001b[0m         \u001b[39melse\u001b[39;00m ApiType\u001b[39m.\u001b[39mfrom_str(openai\u001b[39m.\u001b[39mapi_type)\n\u001b[1;32m    143\u001b[0m     )\n\u001b[1;32m    144\u001b[0m     \u001b[39mself\u001b[39m\u001b[39m.\u001b[39mapi_version \u001b[39m=\u001b[39m api_version \u001b[39mor\u001b[39;00m openai\u001b[39m.\u001b[39mapi_version\n",
      "File \u001b[0;32m~/.pyenv/versions/3.11.5/lib/python3.11/site-packages/openai/util.py:186\u001b[0m, in \u001b[0;36mdefault_api_key\u001b[0;34m()\u001b[0m\n\u001b[1;32m    184\u001b[0m     \u001b[39mreturn\u001b[39;00m openai\u001b[39m.\u001b[39mapi_key\n\u001b[1;32m    185\u001b[0m \u001b[39melse\u001b[39;00m:\n\u001b[0;32m--> 186\u001b[0m     \u001b[39mraise\u001b[39;00m openai\u001b[39m.\u001b[39merror\u001b[39m.\u001b[39mAuthenticationError(\n\u001b[1;32m    187\u001b[0m         \u001b[39m\"\u001b[39m\u001b[39mNo API key provided. You can set your API key in code using \u001b[39m\u001b[39m'\u001b[39m\u001b[39mopenai.api_key = <API-KEY>\u001b[39m\u001b[39m'\u001b[39m\u001b[39m, or you can set the environment variable OPENAI_API_KEY=<API-KEY>). If your API key is stored in a file, you can point the openai module at it with \u001b[39m\u001b[39m'\u001b[39m\u001b[39mopenai.api_key_path = <PATH>\u001b[39m\u001b[39m'\u001b[39m\u001b[39m. You can generate API keys in the OpenAI web interface. See https://platform.openai.com/account/api-keys for details.\u001b[39m\u001b[39m\"\u001b[39m\n\u001b[1;32m    188\u001b[0m     )\n",
      "\u001b[0;31mAuthenticationError\u001b[0m: No API key provided. You can set your API key in code using 'openai.api_key = <API-KEY>', or you can set the environment variable OPENAI_API_KEY=<API-KEY>). If your API key is stored in a file, you can point the openai module at it with 'openai.api_key_path = <PATH>'. You can generate API keys in the OpenAI web interface. See https://platform.openai.com/account/api-keys for details."
     ]
    }
   ],
   "source": [
    "[d[\"root\"] for d in openai.Model.list()[\"data\"]]"
   ]
  },
  {
   "cell_type": "markdown",
   "id": "0f0b3dc2-87d7-4b8b-b603-ee567e008710",
   "metadata": {},
   "source": [
    "## SQuAD"
   ]
  },
  {
   "cell_type": "markdown",
   "id": "de295d35-fea5-46d2-9a01-022ad88e54cd",
   "metadata": {},
   "source": [
    "Our core development dataset is [SQuAD](https://rajpurkar.github.io/SQuAD-explorer/). We chose this dataset because it is well-known and widely used, and it is large enough to support lots of meaningful development work, without, though, being so large as to require lots of compute power. It is also useful that it has gold passages supporting the standard QA formulation, so we can see how well our LM performs with an \"oracle\" retriever that always retrieves the gold passage."
   ]
  },
  {
   "cell_type": "code",
   "execution_count": 10,
   "id": "5eaf2fd0-d060-4100-8702-f7311efd6129",
   "metadata": {},
   "outputs": [
    {
     "data": {
      "application/vnd.jupyter.widget-view+json": {
       "model_id": "83315e985a434b3ba2160ca58642ce3d",
       "version_major": 2,
       "version_minor": 0
      },
      "text/plain": [
       "Downloading builder script:   0%|          | 0.00/5.27k [00:00<?, ?B/s]"
      ]
     },
     "metadata": {},
     "output_type": "display_data"
    },
    {
     "data": {
      "application/vnd.jupyter.widget-view+json": {
       "model_id": "f3d5820e1315486ebe765ace1bb3195f",
       "version_major": 2,
       "version_minor": 0
      },
      "text/plain": [
       "Downloading metadata:   0%|          | 0.00/2.36k [00:00<?, ?B/s]"
      ]
     },
     "metadata": {},
     "output_type": "display_data"
    },
    {
     "data": {
      "application/vnd.jupyter.widget-view+json": {
       "model_id": "ac358af7021e4e8ba82810d58795b983",
       "version_major": 2,
       "version_minor": 0
      },
      "text/plain": [
       "Downloading readme:   0%|          | 0.00/7.67k [00:00<?, ?B/s]"
      ]
     },
     "metadata": {},
     "output_type": "display_data"
    },
    {
     "data": {
      "application/vnd.jupyter.widget-view+json": {
       "model_id": "2d672fed908843489ef48ac180a3fbea",
       "version_major": 2,
       "version_minor": 0
      },
      "text/plain": [
       "Downloading data files:   0%|          | 0/2 [00:00<?, ?it/s]"
      ]
     },
     "metadata": {},
     "output_type": "display_data"
    },
    {
     "data": {
      "application/vnd.jupyter.widget-view+json": {
       "model_id": "b920d32f32fc45908a22dbd0bb026520",
       "version_major": 2,
       "version_minor": 0
      },
      "text/plain": [
       "Downloading data:   0%|          | 0.00/8.12M [00:00<?, ?B/s]"
      ]
     },
     "metadata": {},
     "output_type": "display_data"
    },
    {
     "data": {
      "application/vnd.jupyter.widget-view+json": {
       "model_id": "4d480ea7841343fda22d6715d53c3bb9",
       "version_major": 2,
       "version_minor": 0
      },
      "text/plain": [
       "Downloading data:   0%|          | 0.00/1.05M [00:00<?, ?B/s]"
      ]
     },
     "metadata": {},
     "output_type": "display_data"
    },
    {
     "data": {
      "application/vnd.jupyter.widget-view+json": {
       "model_id": "493f0d6fe99b41d7a1b9d50fedc22138",
       "version_major": 2,
       "version_minor": 0
      },
      "text/plain": [
       "Extracting data files:   0%|          | 0/2 [00:00<?, ?it/s]"
      ]
     },
     "metadata": {},
     "output_type": "display_data"
    },
    {
     "data": {
      "application/vnd.jupyter.widget-view+json": {
       "model_id": "29c802af72004368b0985cdfdf07ae8c",
       "version_major": 2,
       "version_minor": 0
      },
      "text/plain": [
       "Generating train split:   0%|          | 0/87599 [00:00<?, ? examples/s]"
      ]
     },
     "metadata": {},
     "output_type": "display_data"
    },
    {
     "data": {
      "application/vnd.jupyter.widget-view+json": {
       "model_id": "44e34d58853e44a7aa030971eebe40e1",
       "version_major": 2,
       "version_minor": 0
      },
      "text/plain": [
       "Generating validation split:   0%|          | 0/10570 [00:00<?, ? examples/s]"
      ]
     },
     "metadata": {},
     "output_type": "display_data"
    }
   ],
   "source": [
    "squad = load_dataset(\"squad\")"
   ]
  },
  {
   "cell_type": "markdown",
   "id": "36965402-e3da-4531-b7e9-4b12cebcdf30",
   "metadata": {},
   "source": [
    "The following utility just reads a SQuAD split in as a list of `SquadExample` instances:"
   ]
  },
  {
   "cell_type": "code",
   "execution_count": 11,
   "id": "21ad3e0b-7662-43b8-9409-a1a57442458b",
   "metadata": {},
   "outputs": [],
   "source": [
    "def get_squad_split(squad, split=\"validation\"):\n",
    "    \"\"\"\n",
    "    Use `split='train'` for the train split.\n",
    "\n",
    "    Returns\n",
    "    -------\n",
    "    list of SquadExample named tuples with attributes\n",
    "    id, title, context, question, answers\n",
    "\n",
    "    \"\"\"\n",
    "    data = zip(*[squad[split][field] for field in squad[split].features])\n",
    "    return [dsp.Example(id=eid, title=title, context=context, question=q, answer=a['text']) \n",
    "            for eid, title, context, q, a in data]"
   ]
  },
  {
   "cell_type": "code",
   "execution_count": 14,
   "id": "61810f4b",
   "metadata": {},
   "outputs": [
    {
     "data": {
      "text/plain": [
       "DatasetDict({\n",
       "    train: Dataset({\n",
       "        features: ['id', 'title', 'context', 'question', 'answers'],\n",
       "        num_rows: 87599\n",
       "    })\n",
       "    validation: Dataset({\n",
       "        features: ['id', 'title', 'context', 'question', 'answers'],\n",
       "        num_rows: 10570\n",
       "    })\n",
       "})"
      ]
     },
     "execution_count": 14,
     "metadata": {},
     "output_type": "execute_result"
    }
   ],
   "source": [
    "squad"
   ]
  },
  {
   "cell_type": "markdown",
   "id": "a3847d38-4e70-46b7-bf46-4c8b784c5ee5",
   "metadata": {},
   "source": [
    "### SQuAD train"
   ]
  },
  {
   "cell_type": "markdown",
   "id": "051c91e1-586b-4747-be39-3092e60f182f",
   "metadata": {},
   "source": [
    "To build few-shot prompts, we will often sample SQuAD train examples, so we load that split here:"
   ]
  },
  {
   "cell_type": "code",
   "execution_count": 15,
   "id": "66c4feba-d580-4984-a449-0b92a53ef13a",
   "metadata": {},
   "outputs": [],
   "source": [
    "squad_train = get_squad_split(squad, split=\"train\")"
   ]
  },
  {
   "cell_type": "markdown",
   "id": "22ab8c41-8eae-4d15-ad4d-e28b3c58eb4a",
   "metadata": {},
   "source": [
    "### SQuAD dev"
   ]
  },
  {
   "cell_type": "code",
   "execution_count": 16,
   "id": "37198b33-c47b-4e0e-af8b-c00860658cc6",
   "metadata": {},
   "outputs": [],
   "source": [
    "squad_dev = get_squad_split(squad)"
   ]
  },
  {
   "cell_type": "markdown",
   "id": "0c40c768-57cc-4a07-a3ef-5e34262b0ace",
   "metadata": {},
   "source": [
    "### SQuAD dev sample"
   ]
  },
  {
   "cell_type": "markdown",
   "id": "636601b5-c7ad-4177-a6d6-f3afdb0bedae",
   "metadata": {},
   "source": [
    "Evaluations are expensive in this new era! Here's a small sample to use for dev assessments:"
   ]
  },
  {
   "cell_type": "code",
   "execution_count": 17,
   "id": "3ecce47a-ecd2-4143-8c52-81700c060b9a",
   "metadata": {},
   "outputs": [],
   "source": [
    "dev_exs = sorted(squad_dev, key=lambda x: hash(x.id))[: 200]"
   ]
  },
  {
   "cell_type": "markdown",
   "id": "6ba48440-4a65-41e8-b397-7b79f65fa0fe",
   "metadata": {},
   "source": [
    "## Evaluation"
   ]
  },
  {
   "cell_type": "markdown",
   "id": "27e8734a-49a1-4093-a2fb-09bb7d2f2859",
   "metadata": {},
   "source": [
    "Our evaluation protocols are the standard ones for SQuAD and related tasks: exact match of the answer (EM) and token-level F1. We'll reply primarily on DSP for these evaluation utilities; the following is a light modification of `dsp.evaluation.utils.evaluateAnswer`, which is itself built evaluation code from [apple/ml-qrecc](https://github.com/apple/ml-qrecc/blob/main/utils/evaluate_qa.py) repository. It performs very basic string normalization before doing the core comparisons."
   ]
  },
  {
   "cell_type": "code",
   "execution_count": 18,
   "id": "5e8bf612-5195-4f4a-b72a-bf9faf128142",
   "metadata": {},
   "outputs": [],
   "source": [
    "from dsp.utils import EM, F1\n",
    "import tqdm\n",
    "import pandas as pd\n",
    "\n",
    "def evaluateAnswer(fn, dev):\n",
    "    \"\"\"Evaluate a DSP program on `dev`.\n",
    "\n",
    "    Parameters\n",
    "    ----------\n",
    "    fn : DSP system\n",
    "    def : list of `dsp.Example` instances\n",
    "\n",
    "    Returns\n",
    "    -------\n",
    "    dict with keys \"df\", \"em\", \"f1\" storung assessment data\n",
    "    \"\"\"\n",
    "    data = []\n",
    "    for example in tqdm.tqdm(dev):\n",
    "        prediction = fn(example)\n",
    "        d = dict(example)\n",
    "        pred = prediction.answer\n",
    "        d['prediction'] = pred\n",
    "        d['em'] = EM(pred, example.answer)\n",
    "        d['f1'] = F1(pred, example.answer)\n",
    "        data.append(d)\n",
    "    df = pd.DataFrame(data)\n",
    "    em = round(100.0 * df['em'].sum() / len(dev), 1)\n",
    "    df['em'] = df['em'].apply(lambda x: '✔️' if x else '❌')\n",
    "    f1 = df['f1'].mean()\n",
    "    return {'df': df, 'em': em, 'f1': f1}"
   ]
  },
  {
   "cell_type": "markdown",
   "id": "28265d01-890d-4f04-b518-da0e8a1cb235",
   "metadata": {},
   "source": [
    "## DSP basics"
   ]
  },
  {
   "cell_type": "markdown",
   "id": "101b9d12-fc8c-4aae-b09e-0d72a4aa54f5",
   "metadata": {},
   "source": [
    "### LM usage"
   ]
  },
  {
   "cell_type": "markdown",
   "id": "c278daac-11f9-4327-a06f-1c408a06a71d",
   "metadata": {},
   "source": [
    "Here's the most basic way to use the LM:"
   ]
  },
  {
   "cell_type": "code",
   "execution_count": 21,
   "id": "02364ed6-3c6d-4eaf-849a-2d9e30d84b53",
   "metadata": {},
   "outputs": [
    {
     "data": {
      "text/plain": [
       "[' Rhode Island and West Virginia. Rhode Island is the smallest state in the United States and is located in the northeastern part of the country. It shares a water border with Connecticut and Massachusetts. West Virginia is a landlocked state in the Appalachian region of the United States. It borders Pennsylvania, Maryland, Virginia, Ohio, and Kentucky.']"
      ]
     },
     "execution_count": 21,
     "metadata": {},
     "output_type": "execute_result"
    }
   ],
   "source": [
    "lm(\"Which U.S. states border no U.S. states?\")"
   ]
  },
  {
   "cell_type": "markdown",
   "id": "2356d9a8-750b-4383-bc5b-4173ca5c13ac",
   "metadata": {},
   "source": [
    "Keyword arguments to the underlying LM are passed through:"
   ]
  },
  {
   "cell_type": "code",
   "execution_count": 22,
   "id": "19ab8deb-3b9d-4f57-bd70-7c170be294c5",
   "metadata": {},
   "outputs": [
    {
     "data": {
      "text/plain": [
       "[' Rhode Island and West Virginia. Rhode Island is the smallest state in the United States and is located in the northeastern part of the country. It shares a border with only one other state, Massachusetts. West Virginia is a state in the Appalachian region of the United States. It shares a border with Virginia and Kentucky, and also with the states of Ohio, Pennsylvania, and Maryland.\\n\\nThe two states do not share a border with any other states because they are located in regions of the country where there are no other states to share a border with. Rhode Island is located in the northeastern corner of the country, and West Virginia is located in the Appalachian region of the country. \\n\\nWould you like to know anything else about these two states? ',\n",
       " ' Rhode Island and Connecticut are the only two states in the USA that border only one other state.',\n",
       " ' Alaska. Alaska is bordered by the Arctic Ocean, the Pacific Ocean, the Bering Strait, Canada, and the state of Hawaii.  Hawaii is not bordered by any other states due to its isolation in the Pacific Ocean. ',\n",
       " ' Rhode Island and Hawaii. Rhode Island is the smallest state in the United States. It is located in the northeastern part of the country and is bordered by Massachusetts to the north and east, and Connecticut to the west. Hawaii is an island state in the central Pacific Ocean. It is the only U.S. state that is not located in North America and is the most geographically isolated state in the country.']"
      ]
     },
     "execution_count": 22,
     "metadata": {},
     "output_type": "execute_result"
    }
   ],
   "source": [
    "lm(\"Which U.S. states border no U.S. states?\", temperature=0.9, n=4)"
   ]
  },
  {
   "cell_type": "markdown",
   "id": "c50e8d99-6d49-420d-ab5d-cc01b53cd4a1",
   "metadata": {},
   "source": [
    "With `lm.inspect_history`, we can see the most recent language model calls:"
   ]
  },
  {
   "cell_type": "code",
   "execution_count": 23,
   "id": "4f7cb5a5-3a3f-4e78-b9af-488fadc896ab",
   "metadata": {},
   "outputs": [
    {
     "name": "stdout",
     "output_type": "stream",
     "text": [
      "\n",
      "\n",
      "\n",
      "\n",
      "Which U.S. states border no U.S. states?\u001b[32m Rhode Island and West Virginia. Rhode Island is the smallest state in the United States and is located in the northeastern part of the country. It shares a border with only one other state, Massachusetts. West Virginia is a state in the Appalachian region of the United States. It shares a border with Virginia and Kentucky, and also with the states of Ohio, Pennsylvania, and Maryland.\n",
      "\n",
      "The two states do not share a border with any other states because they are located in regions of the country where there are no other states to share a border with. Rhode Island is located in the northeastern corner of the country, and West Virginia is located in the Appalachian region of the country. \n",
      "\n",
      "Would you like to know anything else about these two states? \u001b[0m\u001b[31m \t (and 3 other completions)\u001b[0m\n",
      "\n",
      "\n",
      "\n"
     ]
    }
   ],
   "source": [
    "lm.inspect_history(n=1)"
   ]
  },
  {
   "cell_type": "markdown",
   "id": "d9a0f2df-df1f-422d-bff3-6c4a3d947f6e",
   "metadata": {},
   "source": [
    "### Prompt templates"
   ]
  },
  {
   "cell_type": "markdown",
   "id": "f60d49d4-f690-496a-a0ab-341096d8c1fb",
   "metadata": {},
   "source": [
    "In DSP, the more usual way to call the LM is to define a prompt template. Here we define a generic QA prompt template:"
   ]
  },
  {
   "cell_type": "code",
   "execution_count": 24,
   "id": "4f6f50d6-e296-412f-a959-62e776b6f27c",
   "metadata": {},
   "outputs": [],
   "source": [
    "Question = dsp.Type(\n",
    "    prefix=\"Question:\", \n",
    "    desc=\"${the question to be answered}\")\n",
    "\n",
    "Answer = dsp.Type(\n",
    "    prefix=\"Answer:\", \n",
    "    desc=\"${a short factoid answer, often between 1 and 5 words}\", \n",
    "    format=dsp.format_answers)\n",
    "\n",
    "qa_template = dsp.Template(\n",
    "    instructions=\"Answer questions with short factoid answers.\", \n",
    "    question=Question(), \n",
    "    answer=Answer())"
   ]
  },
  {
   "cell_type": "markdown",
   "id": "9cfd383f-aa80-44ab-a381-f53e3b8e6631",
   "metadata": {},
   "source": [
    "And here is a self-contained example that uses our question and template to create a prompt:"
   ]
  },
  {
   "cell_type": "code",
   "execution_count": 27,
   "id": "2193e222",
   "metadata": {},
   "outputs": [
    {
     "data": {
      "text/plain": [
       "{'id': '5733be284776f41900661182',\n",
       " 'title': 'University_of_Notre_Dame',\n",
       " 'context': 'Architecturally, the school has a Catholic character. Atop the Main Building\\'s gold dome is a golden statue of the Virgin Mary. Immediately in front of the Main Building and facing it, is a copper statue of Christ with arms upraised with the legend \"Venite Ad Me Omnes\". Next to the Main Building is the Basilica of the Sacred Heart. Immediately behind the basilica is the Grotto, a Marian place of prayer and reflection. It is a replica of the grotto at Lourdes, France where the Virgin Mary reputedly appeared to Saint Bernadette Soubirous in 1858. At the end of the main drive (and in a direct line that connects through 3 statues and the Gold Dome), is a simple, modern stone statue of Mary.',\n",
       " 'question': 'To whom did the Virgin Mary allegedly appear in 1858 in Lourdes France?',\n",
       " 'answer': ['Saint Bernadette Soubirous']}"
      ]
     },
     "execution_count": 27,
     "metadata": {},
     "output_type": "execute_result"
    }
   ],
   "source": [
    "squad_train[0]"
   ]
  },
  {
   "cell_type": "code",
   "execution_count": 25,
   "id": "b846dd8b-f8d6-44c6-9079-342bc3f54969",
   "metadata": {},
   "outputs": [
    {
     "name": "stdout",
     "output_type": "stream",
     "text": [
      "Answer questions with short factoid answers.\n",
      "\n",
      "---\n",
      "\n",
      "Follow the following format.\n",
      "\n",
      "Question: ${the question to be answered}\n",
      "Answer: ${a short factoid answer, often between 1 and 5 words}\n",
      "\n",
      "---\n",
      "\n",
      "Question: What album made her a worldwide known artist?\n",
      "Answer: Dangerously in Love\n",
      "\n",
      "---\n",
      "\n",
      "Question: Immunoassays are able to detect what type of proteins?\n",
      "Answer: generated by an infected organism in response to a foreign agent\n",
      "\n",
      "---\n",
      "\n",
      "Question: Which U.S. states border no U.S. states?\n",
      "Answer:\n"
     ]
    }
   ],
   "source": [
    "states_ex = dsp.Example(\n",
    "    question=\"Which U.S. states border no U.S. states?\",\n",
    "    demos=dsp.sample(squad_train, k=2))\n",
    "\n",
    "print(qa_template(states_ex))"
   ]
  },
  {
   "cell_type": "markdown",
   "id": "cb58e275-99a9-45dc-8ae9-fcbdc191f66b",
   "metadata": {},
   "source": [
    "### Prompt-based generation"
   ]
  },
  {
   "cell_type": "markdown",
   "id": "5e0be5e0-7e7f-4e81-bcc0-4ce7a882eecd",
   "metadata": {},
   "source": [
    "We can how put the above pieces together to call the model with our constructed prompt:"
   ]
  },
  {
   "cell_type": "code",
   "execution_count": 32,
   "id": "9c7d277c-a0aa-46c7-b0c3-1c7264efe75e",
   "metadata": {},
   "outputs": [],
   "source": [
    "states_ex, states_compl = dsp.generate(qa_template)(states_ex, stage='basics')"
   ]
  },
  {
   "cell_type": "code",
   "execution_count": 31,
   "id": "413b75c4-8706-4936-a26b-b45c254b3e13",
   "metadata": {},
   "outputs": [
    {
     "name": "stdout",
     "output_type": "stream",
     "text": [
      "Hawaii, Alaska, and Wyoming\n"
     ]
    }
   ],
   "source": [
    "print(states_compl.answer)"
   ]
  },
  {
   "cell_type": "markdown",
   "id": "d8460291-5c58-44bf-9d7e-02176ee6fc43",
   "metadata": {},
   "source": [
    "And here's precisely what the model saw and did:"
   ]
  },
  {
   "cell_type": "code",
   "execution_count": 33,
   "id": "820774e4-339f-4263-9493-9f91e7743a17",
   "metadata": {},
   "outputs": [
    {
     "name": "stdout",
     "output_type": "stream",
     "text": [
      "\n",
      "\n",
      "\n",
      "\n",
      "Answer questions with short factoid answers.\n",
      "\n",
      "---\n",
      "\n",
      "Follow the following format.\n",
      "\n",
      "Question: ${the question to be answered}\n",
      "Answer: ${a short factoid answer, often between 1 and 5 words}\n",
      "\n",
      "---\n",
      "\n",
      "Question: What album made her a worldwide known artist?\n",
      "Answer: Dangerously in Love\n",
      "\n",
      "---\n",
      "\n",
      "Question: Immunoassays are able to detect what type of proteins?\n",
      "Answer: generated by an infected organism in response to a foreign agent\n",
      "\n",
      "---\n",
      "\n",
      "Question: Which U.S. states border no U.S. states?\n",
      "Answer:\u001b[32m Hawaii, Alaska, and Wyoming\u001b[0m\n",
      "\n",
      "\n",
      "\n"
     ]
    }
   ],
   "source": [
    "lm.inspect_history(n=1)"
   ]
  },
  {
   "cell_type": "markdown",
   "id": "b3f1b41d-760c-4f28-8a2d-7f037b4f9d97",
   "metadata": {},
   "source": [
    "### Retrieval"
   ]
  },
  {
   "cell_type": "markdown",
   "id": "51d4c8f4-a537-4d9b-9500-f881fceef1de",
   "metadata": {},
   "source": [
    "The final major component of our systems is retrieval. When we defined `rm`, we connected to a remote ColBERT index and retriever system that we can now use for search."
   ]
  },
  {
   "cell_type": "code",
   "execution_count": 34,
   "id": "2e395070-4c6f-4194-81ff-331e32eecd1f",
   "metadata": {},
   "outputs": [
    {
     "data": {
      "text/plain": [
       "'Which U.S. states border no U.S. states?'"
      ]
     },
     "execution_count": 34,
     "metadata": {},
     "output_type": "execute_result"
    }
   ],
   "source": [
    "states_ex.question"
   ]
  },
  {
   "cell_type": "markdown",
   "id": "b5dfd114-96cf-468a-bac3-d3d39d6f3ca6",
   "metadata": {},
   "source": [
    "The basic `dsp.retrieve` method returns only passages:"
   ]
  },
  {
   "cell_type": "code",
   "execution_count": 35,
   "id": "891fc391-c177-4da7-9332-ab20cdba3c0d",
   "metadata": {},
   "outputs": [],
   "source": [
    "passages = dsp.retrieve(states_ex.question, k=1)"
   ]
  },
  {
   "cell_type": "code",
   "execution_count": 36,
   "id": "abdac37b-b5fe-421c-826f-4fd699cb2e36",
   "metadata": {},
   "outputs": [
    {
     "data": {
      "text/plain": [
       "['Mexico–United States border | has the shortest. Among the states in Mexico, Chihuahua has the longest border with the United States, while Nuevo León has the shortest. Texas borders four Mexican states—Tamaulipas, Nuevo León, Coahuila, and Chihuahua—the most of any U.S. states. New Mexico and Arizona each borders two Mexican states (Chihuahua and Sonora; Sonora and Baja California, respectively). California borders only Baja California. Three Mexican states border two U.S. states each: Baja California borders California and Arizona; Sonora borders Arizona and New Mexico; and Chihuahua borders New Mexico and Texas. Tamaulipas, Nuevo León, and Coahuila each borders only one U.S. state: Texas. The']"
      ]
     },
     "execution_count": 36,
     "metadata": {},
     "output_type": "execute_result"
    }
   ],
   "source": [
    "passages"
   ]
  },
  {
   "cell_type": "markdown",
   "id": "a4e1f577-408c-4ede-9e27-65a24aafca5f",
   "metadata": {},
   "source": [
    "If we need passages with scores and other metadata, we can call `rm` directly:"
   ]
  },
  {
   "cell_type": "code",
   "execution_count": 138,
   "id": "37f4ff3d-de41-4fc7-8943-6dfd894dd1f4",
   "metadata": {},
   "outputs": [
    {
     "data": {
      "text/plain": [
       "[{'pid': 15253467,\n",
       "  'prob': 0.6973748996138318,\n",
       "  'rank': 1,\n",
       "  'score': 23.37183380126953,\n",
       "  'text': 'Restaurant: Impossible | Restaurant: Impossible Restaurant: Impossible was an American reality television series, featuring chef and restaurateur Robert Irvine, that aired on Food Network from 2011 to 2016. The premise of the series is that within two days and on a budget of $10,000, chef Robert Irvine renovates a failing American restaurant with the goal of helping to restore it to profitability and prominence. Irvine is assisted by an HGTV designer (usually Taniya Nayak, Cheryl Torrenueva, or Lynn Kegan, but sometimes Vanessa De Leon, Krista Watterworth, Yvette Irene, or Nicole Faccuito), along with general contractor Tom Bury, who sometimes does double duty as',\n",
       "  'long_text': 'Restaurant: Impossible | Restaurant: Impossible Restaurant: Impossible was an American reality television series, featuring chef and restaurateur Robert Irvine, that aired on Food Network from 2011 to 2016. The premise of the series is that within two days and on a budget of $10,000, chef Robert Irvine renovates a failing American restaurant with the goal of helping to restore it to profitability and prominence. Irvine is assisted by an HGTV designer (usually Taniya Nayak, Cheryl Torrenueva, or Lynn Kegan, but sometimes Vanessa De Leon, Krista Watterworth, Yvette Irene, or Nicole Faccuito), along with general contractor Tom Bury, who sometimes does double duty as'},\n",
       " {'pid': 15253470,\n",
       "  'prob': 0.2936241308525614,\n",
       "  'rank': 2,\n",
       "  'score': 22.506811141967773,\n",
       "  'text': 'Restaurant: Impossible | customers being invited to the new-look restaurant. Occasionally, selected items from the new menu are prepared and samples are presented to the public to advertise the restaurant. Starting this season, Irvine would ambush owners of failing restaurants without telling them in advance that he is coming to them. Restaurant: Impossible Restaurant: Impossible was an American reality television series, featuring chef and restaurateur Robert Irvine, that aired on Food Network from 2011 to 2016. The premise of the series is that within two days and on a budget of $10,000, chef Robert Irvine renovates a failing American restaurant with the goal',\n",
       "  'long_text': 'Restaurant: Impossible | customers being invited to the new-look restaurant. Occasionally, selected items from the new menu are prepared and samples are presented to the public to advertise the restaurant. Starting this season, Irvine would ambush owners of failing restaurants without telling them in advance that he is coming to them. Restaurant: Impossible Restaurant: Impossible was an American reality television series, featuring chef and restaurateur Robert Irvine, that aired on Food Network from 2011 to 2016. The premise of the series is that within two days and on a budget of $10,000, chef Robert Irvine renovates a failing American restaurant with the goal'},\n",
       " {'pid': 11816626,\n",
       "  'prob': 0.009000969533606747,\n",
       "  'rank': 3,\n",
       "  'score': 19.02184295654297,\n",
       "  'text': 'James Koskiniemi | at the final Crabby Chef competition with Crab and Corn Beignets with a Ginger Honey Ver Jus. Chef James made an appearance on an episode of the Food Network Show Restaurant Impossible Chef James works with several local charities such as Special Olympics, NFL Alumni For Kids, East Bay Agency for Children, and Raphael House. He was auctioned off in 2012 for over $30,000 at the Raphael House Gala in May 2012. James Koskiniemi James Koskiniemi (born February 16, 1977) is an American chef who is the recipient of the San Francisco Chefs Association 2010 Chef of the Year. James',\n",
       "  'long_text': 'James Koskiniemi | at the final Crabby Chef competition with Crab and Corn Beignets with a Ginger Honey Ver Jus. Chef James made an appearance on an episode of the Food Network Show Restaurant Impossible Chef James works with several local charities such as Special Olympics, NFL Alumni For Kids, East Bay Agency for Children, and Raphael House. He was auctioned off in 2012 for over $30,000 at the Raphael House Gala in May 2012. James Koskiniemi James Koskiniemi (born February 16, 1977) is an American chef who is the recipient of the San Francisco Chefs Association 2010 Chef of the Year. James'}]"
      ]
     },
     "execution_count": 138,
     "metadata": {},
     "output_type": "execute_result"
    }
   ],
   "source": [
    "rm('What is the nationality of the chef and restaurateur featured in Restaurant: Impossible?', k=3)"
   ]
  },
  {
   "cell_type": "code",
   "execution_count": 140,
   "id": "fd539c16",
   "metadata": {},
   "outputs": [
    {
     "data": {
      "text/plain": [
       "tensor([0.6984, 0.2926, 0.0090])"
      ]
     },
     "execution_count": 140,
     "metadata": {},
     "output_type": "execute_result"
    }
   ],
   "source": [
    "import torch\n",
    "\n",
    "torch.softmax(torch.tensor([23.37, 22.50, 19.02]), dim=0)"
   ]
  },
  {
   "cell_type": "markdown",
   "id": "db2017ee-1375-4251-a24f-7f792852ffac",
   "metadata": {},
   "source": [
    "## Few-shot OpenQA"
   ]
  },
  {
   "cell_type": "markdown",
   "id": "fa1dc2c2-8d8b-4cd2-a40f-ee023932359a",
   "metadata": {},
   "source": [
    "With the above pieces in place, we can define our first DSP system. This one does few-shot OpenQA with no context passages. In essense, our prompts contain\n",
    "\n",
    "1. A sequences of Q/A demonstrations (no context passages).\n",
    "2. The target question (no context passage).\n",
    "\n",
    "Here is the full system; note the use of the decorator `@dsp.transformation` – this will ensure that no `example` instances are modified when the program is used."
   ]
  },
  {
   "cell_type": "code",
   "execution_count": 39,
   "id": "df25de1c-ee5c-42ec-b1f0-a7194ba6063a",
   "metadata": {},
   "outputs": [],
   "source": [
    "@dsp.transformation\n",
    "def few_shot_openqa(example, train=squad_train, k=2): \n",
    "    example.demos = dsp.sample(train, k=k)\n",
    "    example, completions = dsp.generate(qa_template)(example, stage='qa')\n",
    "    return completions"
   ]
  },
  {
   "cell_type": "markdown",
   "id": "952dd9d4-ba1f-4689-a548-4e216610f268",
   "metadata": {},
   "source": [
    "There are really just two steps here. Let's go through them individually. Our example:"
   ]
  },
  {
   "cell_type": "code",
   "execution_count": 40,
   "id": "b15bb28d-d46e-4a26-ab01-42c73ef953ef",
   "metadata": {},
   "outputs": [
    {
     "data": {
      "text/plain": [
       "{'id': '56be4db0acb8001400a502ec',\n",
       " 'title': 'Super_Bowl_50',\n",
       " 'context': 'Super Bowl 50 was an American football game to determine the champion of the National Football League (NFL) for the 2015 season. The American Football Conference (AFC) champion Denver Broncos defeated the National Football Conference (NFC) champion Carolina Panthers 24–10 to earn their third Super Bowl title. The game was played on February 7, 2016, at Levi\\'s Stadium in the San Francisco Bay Area at Santa Clara, California. As this was the 50th Super Bowl, the league emphasized the \"golden anniversary\" with various gold-themed initiatives, as well as temporarily suspending the tradition of naming each Super Bowl game with Roman numerals (under which the game would have been known as \"Super Bowl L\"), so that the logo could prominently feature the Arabic numerals 50.',\n",
       " 'question': 'Which NFL team represented the AFC at Super Bowl 50?',\n",
       " 'answer': ['Denver Broncos', 'Denver Broncos', 'Denver Broncos']}"
      ]
     },
     "execution_count": 40,
     "metadata": {},
     "output_type": "execute_result"
    }
   ],
   "source": [
    "ex = squad_dev[0].copy()\n",
    "\n",
    "ex"
   ]
  },
  {
   "cell_type": "markdown",
   "id": "ed8407fb-a556-45f0-9c2a-92d08fbba5f7",
   "metadata": {},
   "source": [
    "We add some demonstrations:"
   ]
  },
  {
   "cell_type": "code",
   "execution_count": 45,
   "id": "1cb1e73b-7368-4b95-bf63-d4ef05f1ec2a",
   "metadata": {},
   "outputs": [
    {
     "data": {
      "text/plain": [
       "{'id': '56be4db0acb8001400a502ec',\n",
       " 'title': 'Super_Bowl_50',\n",
       " 'context': 'Super Bowl 50 was an American football game to determine the champion of the National Football League (NFL) for the 2015 season. The American Football Conference (AFC) champion Denver Broncos defeated the National Football Conference (NFC) champion Carolina Panthers 24–10 to earn their third Super Bowl title. The game was played on February 7, 2016, at Levi\\'s Stadium in the San Francisco Bay Area at Santa Clara, California. As this was the 50th Super Bowl, the league emphasized the \"golden anniversary\" with various gold-themed initiatives, as well as temporarily suspending the tradition of naming each Super Bowl game with Roman numerals (under which the game would have been known as \"Super Bowl L\"), so that the logo could prominently feature the Arabic numerals 50.',\n",
       " 'question': 'Which NFL team represented the AFC at Super Bowl 50?',\n",
       " 'answer': ['Denver Broncos', 'Denver Broncos', 'Denver Broncos'],\n",
       " 'demos': [{'id': '56bf6b0f3aeaaa14008c9604',\n",
       "   'title': 'Beyoncé',\n",
       "   'context': 'Beyoncé Giselle Knowles-Carter (/biːˈjɒnseɪ/ bee-YON-say) (born September 4, 1981) is an American singer, songwriter, record producer and actress. Born and raised in Houston, Texas, she performed in various singing and dancing competitions as a child, and rose to fame in the late 1990s as lead singer of R&B girl-group Destiny\\'s Child. Managed by her father, Mathew Knowles, the group became one of the world\\'s best-selling girl groups of all time. Their hiatus saw the release of Beyoncé\\'s debut album, Dangerously in Love (2003), which established her as a solo artist worldwide, earned five Grammy Awards and featured the Billboard Hot 100 number-one singles \"Crazy in Love\" and \"Baby Boy\".',\n",
       "   'question': 'What album made her a worldwide known artist?',\n",
       "   'answer': ['Dangerously in Love']},\n",
       "  {'id': '57342720d058e614000b6a29',\n",
       "   'title': 'Infection',\n",
       "   'context': \"Complex serological techniques have been developed into what are known as Immunoassays. Immunoassays can use the basic antibody – antigen binding as the basis to produce an electro - magnetic or particle radiation signal, which can be detected by some form of instrumentation. Signal of unknowns can be compared to that of standards allowing quantitation of the target antigen. To aid in the diagnosis of infectious diseases, immunoassays can detect or measure antigens from either infectious agents or proteins generated by an infected organism in response to a foreign agent. For example, immunoassay A may detect the presence of a surface protein from a virus particle. Immunoassay B on the other hand may detect or measure antibodies produced by an organism's immune system that are made to neutralize and allow the destruction of the virus.\",\n",
       "   'question': 'Immunoassays are able to detect what type of proteins?',\n",
       "   'answer': ['generated by an infected organism in response to a foreign agent']}]}"
      ]
     },
     "execution_count": 45,
     "metadata": {},
     "output_type": "execute_result"
    }
   ],
   "source": [
    "ex.demos = dsp.sample(squad_train, k=2)\n",
    "\n",
    "ex"
   ]
  },
  {
   "cell_type": "markdown",
   "id": "9ae66b9f-ff8d-4952-bc59-f2da0d949089",
   "metadata": {},
   "source": [
    "And then we call the LM using `qa_template`:"
   ]
  },
  {
   "cell_type": "code",
   "execution_count": 46,
   "id": "fc564cf6-d1d2-4a11-b0f2-58bfce3e34ce",
   "metadata": {},
   "outputs": [],
   "source": [
    "ex, ex_compl = dsp.generate(qa_template)(ex, stage='qa')"
   ]
  },
  {
   "cell_type": "markdown",
   "id": "a000eec9-a63b-41fc-9641-60110996f231",
   "metadata": {},
   "source": [
    "Here, `ex_compl` is a `Completions` instance. We will typically use only the `answer` attribute:"
   ]
  },
  {
   "cell_type": "code",
   "execution_count": 47,
   "id": "ba4656bd-2f21-47b0-85f7-91720076be6e",
   "metadata": {},
   "outputs": [
    {
     "name": "stdout",
     "output_type": "stream",
     "text": [
      "New England Patriots\n"
     ]
    }
   ],
   "source": [
    "print(ex_compl.answer)"
   ]
  },
  {
   "cell_type": "markdown",
   "id": "297c0a19-84c4-4342-ac54-4750a2e70710",
   "metadata": {},
   "source": [
    "And, as a final check, we can see precisely what the LM saw:"
   ]
  },
  {
   "cell_type": "code",
   "execution_count": 48,
   "id": "57cb7634-4f80-4f8a-a855-f96c696717ee",
   "metadata": {},
   "outputs": [
    {
     "name": "stdout",
     "output_type": "stream",
     "text": [
      "\n",
      "\n",
      "\n",
      "\n",
      "Answer questions with short factoid answers.\n",
      "\n",
      "---\n",
      "\n",
      "Follow the following format.\n",
      "\n",
      "Question: ${the question to be answered}\n",
      "Answer: ${a short factoid answer, often between 1 and 5 words}\n",
      "\n",
      "---\n",
      "\n",
      "Question: What album made her a worldwide known artist?\n",
      "Answer: Dangerously in Love\n",
      "\n",
      "---\n",
      "\n",
      "Question: Immunoassays are able to detect what type of proteins?\n",
      "Answer: generated by an infected organism in response to a foreign agent\n",
      "\n",
      "---\n",
      "\n",
      "Question: Which NFL team represented the AFC at Super Bowl 50?\n",
      "Answer:\u001b[32m New England Patriots\u001b[0m\n",
      "\n",
      "\n",
      "\n"
     ]
    }
   ],
   "source": [
    "lm.inspect_history(n=1)"
   ]
  },
  {
   "cell_type": "markdown",
   "id": "6a4b36c9-5549-4e67-8f07-c640229e69cc",
   "metadata": {},
   "source": [
    "## Few-shot QA with context"
   ]
  },
  {
   "cell_type": "markdown",
   "id": "4888840f-27d4-4f09-bcdc-6a95946fa8c5",
   "metadata": {},
   "source": [
    "The above system makes no use of evidence passages. As a first step toward bringing in such passages, we define a regular few-shot QA system. For this system, prompts contain:\n",
    "\n",
    "1. A sequences of Q/A demonstrations, each with a gold context passage.\n",
    "2. The target question with a gold context passage.\n",
    "\n",
    "This kind of system is very demanding in terms of data, since we need to have gold evidence passages for every Q/A pair used for demonstations and the Q that is our target. Datasets like SQuAD support this, but it's a rare situation in the world. (Our next system will address this by dropping the need for gold passages)."
   ]
  },
  {
   "cell_type": "markdown",
   "id": "2d451db1-a2c3-4c4f-982f-3a00e58c3ff6",
   "metadata": {},
   "source": [
    "### Template with context"
   ]
  },
  {
   "cell_type": "markdown",
   "id": "67513718-09e7-4386-ab78-aabac3b6e9ef",
   "metadata": {},
   "source": [
    "The first step toward defining this system is a new prompt template that includes context:"
   ]
  },
  {
   "cell_type": "code",
   "execution_count": 49,
   "id": "47cd46e0-ca91-4fe3-bd2c-e4005a16669d",
   "metadata": {},
   "outputs": [],
   "source": [
    "Context = dsp.Type(\n",
    "    prefix=\"Context:\\n\",\n",
    "    desc=\"${sources that may contain relevant content}\",\n",
    "    format=dsp.passages2text)\n",
    "\n",
    "qa_template_with_passages = dsp.Template(\n",
    "    instructions=qa_template.instructions,\n",
    "    context=Context(), \n",
    "    question=Question(), \n",
    "    answer=Answer())"
   ]
  },
  {
   "cell_type": "markdown",
   "id": "5a24aefd-0aa9-4b82-b8c3-42a06247bd14",
   "metadata": {},
   "source": [
    "Here's what this does for a SQUaD example:"
   ]
  },
  {
   "cell_type": "code",
   "execution_count": 50,
   "id": "9c0b3571-16e6-48a0-9225-e92430ed0082",
   "metadata": {},
   "outputs": [
    {
     "name": "stdout",
     "output_type": "stream",
     "text": [
      "Answer questions with short factoid answers.\n",
      "\n",
      "---\n",
      "\n",
      "Follow the following format.\n",
      "\n",
      "Context:\n",
      "${sources that may contain relevant content}\n",
      "\n",
      "Question: ${the question to be answered}\n",
      "\n",
      "Answer: ${a short factoid answer, often between 1 and 5 words}\n",
      "\n",
      "---\n",
      "\n",
      "Context:\n",
      "Beyoncé Giselle Knowles-Carter (/biːˈjɒnseɪ/ bee-YON-say) (born September 4, 1981) is an American singer, songwriter, record producer and actress. Born and raised in Houston, Texas, she performed in various singing and dancing competitions as a child, and rose to fame in the late 1990s as lead singer of R&B girl-group Destiny's Child. Managed by her father, Mathew Knowles, the group became one of the world's best-selling girl groups of all time. Their hiatus saw the release of Beyoncé's debut album, Dangerously in Love (2003), which established her as a solo artist worldwide, earned five Grammy Awards and featured the Billboard Hot 100 number-one singles \"Crazy in Love\" and \"Baby Boy\".\n",
      "Question: What album made her a worldwide known artist?\n",
      "Answer: Dangerously in Love\n",
      "\n",
      "---\n",
      "\n",
      "Context:\n",
      "Complex serological techniques have been developed into what are known as Immunoassays. Immunoassays can use the basic antibody – antigen binding as the basis to produce an electro - magnetic or particle radiation signal, which can be detected by some form of instrumentation. Signal of unknowns can be compared to that of standards allowing quantitation of the target antigen. To aid in the diagnosis of infectious diseases, immunoassays can detect or measure antigens from either infectious agents or proteins generated by an infected organism in response to a foreign agent. For example, immunoassay A may detect the presence of a surface protein from a virus particle. Immunoassay B on the other hand may detect or measure antibodies produced by an organism's immune system that are made to neutralize and allow the destruction of the virus.\n",
      "Question: Immunoassays are able to detect what type of proteins?\n",
      "Answer: generated by an infected organism in response to a foreign agent\n",
      "\n",
      "---\n",
      "\n",
      "Context:\n",
      "Super Bowl 50 was an American football game to determine the champion of the National Football League (NFL) for the 2015 season. The American Football Conference (AFC) champion Denver Broncos defeated the National Football Conference (NFC) champion Carolina Panthers 24–10 to earn their third Super Bowl title. The game was played on February 7, 2016, at Levi's Stadium in the San Francisco Bay Area at Santa Clara, California. As this was the 50th Super Bowl, the league emphasized the \"golden anniversary\" with various gold-themed initiatives, as well as temporarily suspending the tradition of naming each Super Bowl game with Roman numerals (under which the game would have been known as \"Super Bowl L\"), so that the logo could prominently feature the Arabic numerals 50.\n",
      "\n",
      "Question: Which NFL team represented the AFC at Super Bowl 50?\n",
      "\n",
      "Answer:\n"
     ]
    }
   ],
   "source": [
    "print(qa_template_with_passages(ex))"
   ]
  },
  {
   "cell_type": "markdown",
   "id": "78c0a313-ba07-4b1d-9da4-a3fbf11321ca",
   "metadata": {},
   "source": [
    "### The system"
   ]
  },
  {
   "cell_type": "markdown",
   "id": "987a7406-dc46-4d6a-af19-198c11214211",
   "metadata": {},
   "source": [
    "And here is the full system; the code is identical to `few_shot_openqa` except we now use `qa_template_with_passages`:"
   ]
  },
  {
   "cell_type": "code",
   "execution_count": 52,
   "id": "90323a84-b5bb-4bb0-a20e-ee89d85d09e4",
   "metadata": {},
   "outputs": [],
   "source": [
    "@dsp.transformation\n",
    "def few_shot_qa_with_context(example, train=squad_train, k=3):\n",
    "    example.demos = dsp.sample(train, k=k)\n",
    "    generator = dsp.generate(qa_template_with_passages)\n",
    "    example, completions = generator(example, stage='qa')\n",
    "    return completions"
   ]
  },
  {
   "cell_type": "code",
   "execution_count": 53,
   "id": "4871b0f5-f736-4d85-bfbe-199be78ff4eb",
   "metadata": {},
   "outputs": [
    {
     "name": "stdout",
     "output_type": "stream",
     "text": [
      "Denver Broncos\n"
     ]
    }
   ],
   "source": [
    "print(few_shot_qa_with_context(squad_dev[0]).answer)"
   ]
  },
  {
   "cell_type": "code",
   "execution_count": 54,
   "id": "9f6d5962-0993-4cac-9fc0-8ed18f608e11",
   "metadata": {},
   "outputs": [
    {
     "name": "stdout",
     "output_type": "stream",
     "text": [
      "\n",
      "\n",
      "\n",
      "\n",
      "Answer questions with short factoid answers.\n",
      "\n",
      "---\n",
      "\n",
      "Follow the following format.\n",
      "\n",
      "Context:\n",
      "${sources that may contain relevant content}\n",
      "\n",
      "Question: ${the question to be answered}\n",
      "\n",
      "Answer: ${a short factoid answer, often between 1 and 5 words}\n",
      "\n",
      "---\n",
      "\n",
      "Context:\n",
      "Beyoncé Giselle Knowles-Carter (/biːˈjɒnseɪ/ bee-YON-say) (born September 4, 1981) is an American singer, songwriter, record producer and actress. Born and raised in Houston, Texas, she performed in various singing and dancing competitions as a child, and rose to fame in the late 1990s as lead singer of R&B girl-group Destiny's Child. Managed by her father, Mathew Knowles, the group became one of the world's best-selling girl groups of all time. Their hiatus saw the release of Beyoncé's debut album, Dangerously in Love (2003), which established her as a solo artist worldwide, earned five Grammy Awards and featured the Billboard Hot 100 number-one singles \"Crazy in Love\" and \"Baby Boy\".\n",
      "Question: What album made her a worldwide known artist?\n",
      "Answer: Dangerously in Love\n",
      "\n",
      "---\n",
      "\n",
      "Context:\n",
      "Complex serological techniques have been developed into what are known as Immunoassays. Immunoassays can use the basic antibody – antigen binding as the basis to produce an electro - magnetic or particle radiation signal, which can be detected by some form of instrumentation. Signal of unknowns can be compared to that of standards allowing quantitation of the target antigen. To aid in the diagnosis of infectious diseases, immunoassays can detect or measure antigens from either infectious agents or proteins generated by an infected organism in response to a foreign agent. For example, immunoassay A may detect the presence of a surface protein from a virus particle. Immunoassay B on the other hand may detect or measure antibodies produced by an organism's immune system that are made to neutralize and allow the destruction of the virus.\n",
      "Question: Immunoassays are able to detect what type of proteins?\n",
      "Answer: generated by an infected organism in response to a foreign agent\n",
      "\n",
      "---\n",
      "\n",
      "Context:\n",
      "From the 10th to the 13th century, Romanesque architecture had become a pan-European style and manner of construction, affecting buildings in countries as far apart as Ireland, Croatia, Sweden and Sicily. The same wide geographic area was then affected by the development of Gothic architecture, but the acceptance of the Gothic style and methods of construction differed from place to place, as did the expressions of Gothic taste. The proximity of some regions meant that modern country borders do not define divisions of style. On the other hand, some regions such as England and Spain produced defining characteristics rarely seen elsewhere, except where they have been carried by itinerant craftsmen, or the transfer of bishops. Regional differences that are apparent in the great abbey churches and cathedrals of the Romanesque period often become even more apparent in the Gothic.\n",
      "Question: Why did country borders not affect differences in style within Gothic architecture?\n",
      "Answer: proximity of some regions\n",
      "\n",
      "---\n",
      "\n",
      "Context:\n",
      "Super Bowl 50 was an American football game to determine the champion of the National Football League (NFL) for the 2015 season. The American Football Conference (AFC) champion Denver Broncos defeated the National Football Conference (NFC) champion Carolina Panthers 24–10 to earn their third Super Bowl title. The game was played on February 7, 2016, at Levi's Stadium in the San Francisco Bay Area at Santa Clara, California. As this was the 50th Super Bowl, the league emphasized the \"golden anniversary\" with various gold-themed initiatives, as well as temporarily suspending the tradition of naming each Super Bowl game with Roman numerals (under which the game would have been known as \"Super Bowl L\"), so that the logo could prominently feature the Arabic numerals 50.\n",
      "\n",
      "Question: Which NFL team represented the AFC at Super Bowl 50?\n",
      "\n",
      "Answer:\u001b[32m Denver Broncos\u001b[0m\n",
      "\n",
      "\n",
      "\n"
     ]
    }
   ],
   "source": [
    "lm.inspect_history(n=1)"
   ]
  },
  {
   "cell_type": "markdown",
   "id": "ad912442-d489-48a7-90b3-eb85d5318771",
   "metadata": {},
   "source": [
    "## Dev evaluations"
   ]
  },
  {
   "cell_type": "markdown",
   "id": "5204ad57-6d89-44f3-bde4-d788784a9fff",
   "metadata": {},
   "source": [
    "This quick section shows some full evaluations using `evaluateAnswer` (see [Evaluation](#Evaluation) above). Depending on which model you're using, these evaluations could be expensive, so you might want to run them only sparingly. Here I am running them on just 25 dev examples to further avoid cost run-ups."
   ]
  },
  {
   "cell_type": "code",
   "execution_count": 55,
   "id": "5465c228-9ada-4c70-a694-669b9629ee75",
   "metadata": {},
   "outputs": [],
   "source": [
    "tiny_dev = dev_exs[: 25]"
   ]
  },
  {
   "cell_type": "code",
   "execution_count": 56,
   "id": "28ea0d8d-e51a-4b06-b7c7-aed2fcadb74d",
   "metadata": {},
   "outputs": [
    {
     "name": "stderr",
     "output_type": "stream",
     "text": [
      " 20%|██        | 5/25 [00:11<00:49,  2.47s/it]"
     ]
    },
    {
     "name": "stdout",
     "output_type": "stream",
     "text": [
      "Backing off 0.9 seconds after 1 tries calling function <function Cohere.request at 0x1603dad40> with kwargs {'num_generations': 1}\n",
      "Backing off 1.4 seconds after 2 tries calling function <function Cohere.request at 0x1603dad40> with kwargs {'num_generations': 1}\n",
      "Backing off 3.4 seconds after 3 tries calling function <function Cohere.request at 0x1603dad40> with kwargs {'num_generations': 1}\n",
      "Backing off 7.3 seconds after 4 tries calling function <function Cohere.request at 0x1603dad40> with kwargs {'num_generations': 1}\n",
      "Backing off 14.3 seconds after 5 tries calling function <function Cohere.request at 0x1603dad40> with kwargs {'num_generations': 1}\n"
     ]
    },
    {
     "name": "stderr",
     "output_type": "stream",
     "text": [
      " 40%|████      | 10/25 [01:19<01:33,  6.23s/it]"
     ]
    },
    {
     "name": "stdout",
     "output_type": "stream",
     "text": [
      "Backing off 0.7 seconds after 1 tries calling function <function Cohere.request at 0x1603dad40> with kwargs {'num_generations': 1}\n",
      "Backing off 0.1 seconds after 2 tries calling function <function Cohere.request at 0x1603dad40> with kwargs {'num_generations': 1}\n",
      "Backing off 3.4 seconds after 3 tries calling function <function Cohere.request at 0x1603dad40> with kwargs {'num_generations': 1}\n",
      "Backing off 0.7 seconds after 4 tries calling function <function Cohere.request at 0x1603dad40> with kwargs {'num_generations': 1}\n",
      "Backing off 7.7 seconds after 5 tries calling function <function Cohere.request at 0x1603dad40> with kwargs {'num_generations': 1}\n",
      "Backing off 25.3 seconds after 6 tries calling function <function Cohere.request at 0x1603dad40> with kwargs {'num_generations': 1}\n"
     ]
    },
    {
     "name": "stderr",
     "output_type": "stream",
     "text": [
      " 60%|██████    | 15/25 [02:41<01:18,  7.84s/it]"
     ]
    },
    {
     "name": "stdout",
     "output_type": "stream",
     "text": [
      "Backing off 0.6 seconds after 1 tries calling function <function Cohere.request at 0x1603dad40> with kwargs {'num_generations': 1}\n",
      "Backing off 0.7 seconds after 2 tries calling function <function Cohere.request at 0x1603dad40> with kwargs {'num_generations': 1}\n",
      "Backing off 0.8 seconds after 3 tries calling function <function Cohere.request at 0x1603dad40> with kwargs {'num_generations': 1}\n",
      "Backing off 7.1 seconds after 4 tries calling function <function Cohere.request at 0x1603dad40> with kwargs {'num_generations': 1}\n",
      "Backing off 3.5 seconds after 5 tries calling function <function Cohere.request at 0x1603dad40> with kwargs {'num_generations': 1}\n",
      "Backing off 28.2 seconds after 6 tries calling function <function Cohere.request at 0x1603dad40> with kwargs {'num_generations': 1}\n"
     ]
    },
    {
     "name": "stderr",
     "output_type": "stream",
     "text": [
      " 80%|████████  | 20/25 [04:07<00:42,  8.51s/it]"
     ]
    },
    {
     "name": "stdout",
     "output_type": "stream",
     "text": [
      "Backing off 0.6 seconds after 1 tries calling function <function Cohere.request at 0x1603dad40> with kwargs {'num_generations': 1}\n",
      "Backing off 1.4 seconds after 2 tries calling function <function Cohere.request at 0x1603dad40> with kwargs {'num_generations': 1}\n",
      "Backing off 3.8 seconds after 3 tries calling function <function Cohere.request at 0x1603dad40> with kwargs {'num_generations': 1}\n",
      "Backing off 0.8 seconds after 4 tries calling function <function Cohere.request at 0x1603dad40> with kwargs {'num_generations': 1}\n",
      "Backing off 5.6 seconds after 5 tries calling function <function Cohere.request at 0x1603dad40> with kwargs {'num_generations': 1}\n",
      "Backing off 30.9 seconds after 6 tries calling function <function Cohere.request at 0x1603dad40> with kwargs {'num_generations': 1}\n"
     ]
    },
    {
     "name": "stderr",
     "output_type": "stream",
     "text": [
      "100%|██████████| 25/25 [05:36<00:00, 13.45s/it]"
     ]
    },
    {
     "name": "stdout",
     "output_type": "stream",
     "text": [
      "4.0\n",
      "0.15280112044817926\n"
     ]
    },
    {
     "name": "stderr",
     "output_type": "stream",
     "text": [
      "\n"
     ]
    }
   ],
   "source": [
    "few_shot_openqa_results = evaluateAnswer(few_shot_openqa, tiny_dev)\n",
    "\n",
    "print(few_shot_openqa_results['em'])\n",
    "print(few_shot_openqa_results['f1'])"
   ]
  },
  {
   "cell_type": "markdown",
   "id": "39992dc4-c066-453e-8e1a-247823b41865",
   "metadata": {},
   "source": [
    "You can also see the full set of results:"
   ]
  },
  {
   "cell_type": "code",
   "execution_count": 57,
   "id": "47d06cbf-1a36-4492-8b2a-7ffdb1e324e6",
   "metadata": {},
   "outputs": [
    {
     "data": {
      "text/html": [
       "<div>\n",
       "<style scoped>\n",
       "    .dataframe tbody tr th:only-of-type {\n",
       "        vertical-align: middle;\n",
       "    }\n",
       "\n",
       "    .dataframe tbody tr th {\n",
       "        vertical-align: top;\n",
       "    }\n",
       "\n",
       "    .dataframe thead th {\n",
       "        text-align: right;\n",
       "    }\n",
       "</style>\n",
       "<table border=\"1\" class=\"dataframe\">\n",
       "  <thead>\n",
       "    <tr style=\"text-align: right;\">\n",
       "      <th></th>\n",
       "      <th>id</th>\n",
       "      <th>title</th>\n",
       "      <th>context</th>\n",
       "      <th>question</th>\n",
       "      <th>answer</th>\n",
       "      <th>prediction</th>\n",
       "      <th>em</th>\n",
       "      <th>f1</th>\n",
       "    </tr>\n",
       "  </thead>\n",
       "  <tbody>\n",
       "    <tr>\n",
       "      <th>0</th>\n",
       "      <td>56de0ed14396321400ee257b</td>\n",
       "      <td>Normans</td>\n",
       "      <td>Institutionally, the Normans combined the admi...</td>\n",
       "      <td>What kind of bureaucracy did the Normans insti...</td>\n",
       "      <td>[meritocratic, meritocratic, meritocratic]</td>\n",
       "      <td>feudalism</td>\n",
       "      <td>❌</td>\n",
       "      <td>0.000000</td>\n",
       "    </tr>\n",
       "    <tr>\n",
       "      <th>1</th>\n",
       "      <td>5727c8863acd2414000dec4b</td>\n",
       "      <td>Harvard_University</td>\n",
       "      <td>Harvard's 209-acre (85 ha) main campus is cent...</td>\n",
       "      <td>Along what geographic feature are nine residen...</td>\n",
       "      <td>[Charles River, Charles River, Charles River]</td>\n",
       "      <td>River</td>\n",
       "      <td>❌</td>\n",
       "      <td>0.666667</td>\n",
       "    </tr>\n",
       "    <tr>\n",
       "      <th>2</th>\n",
       "      <td>57097c8fed30961900e841f3</td>\n",
       "      <td>Sky_(United_Kingdom)</td>\n",
       "      <td>The Daily Mail newspaper reported in 2012 that...</td>\n",
       "      <td>What could the Supplemental Nutrition Assistan...</td>\n",
       "      <td>[essentials, only \"essentials\", essentials]</td>\n",
       "      <td>food at authorized retail food stores</td>\n",
       "      <td>❌</td>\n",
       "      <td>0.000000</td>\n",
       "    </tr>\n",
       "    <tr>\n",
       "      <th>3</th>\n",
       "      <td>572812eaff5b5019007d9c81</td>\n",
       "      <td>Doctor_Who</td>\n",
       "      <td>The Dalek race, which first appeared in the sh...</td>\n",
       "      <td>What planet do the Daleks come from?</td>\n",
       "      <td>[Skaro, Skaro, Skaro]</td>\n",
       "      <td>Skaro</td>\n",
       "      <td>✔️</td>\n",
       "      <td>1.000000</td>\n",
       "    </tr>\n",
       "    <tr>\n",
       "      <th>4</th>\n",
       "      <td>5728fa576aef051400154920</td>\n",
       "      <td>Kenya</td>\n",
       "      <td>Fossils found in Kenya suggest that primates r...</td>\n",
       "      <td>How long ago did primates inhabit Kenya?</td>\n",
       "      <td>[more than 20 million years ago, 20 million ye...</td>\n",
       "      <td>23 million years ago</td>\n",
       "      <td>❌</td>\n",
       "      <td>0.750000</td>\n",
       "    </tr>\n",
       "  </tbody>\n",
       "</table>\n",
       "</div>"
      ],
      "text/plain": [
       "                         id                 title  \\\n",
       "0  56de0ed14396321400ee257b               Normans   \n",
       "1  5727c8863acd2414000dec4b    Harvard_University   \n",
       "2  57097c8fed30961900e841f3  Sky_(United_Kingdom)   \n",
       "3  572812eaff5b5019007d9c81            Doctor_Who   \n",
       "4  5728fa576aef051400154920                 Kenya   \n",
       "\n",
       "                                             context  \\\n",
       "0  Institutionally, the Normans combined the admi...   \n",
       "1  Harvard's 209-acre (85 ha) main campus is cent...   \n",
       "2  The Daily Mail newspaper reported in 2012 that...   \n",
       "3  The Dalek race, which first appeared in the sh...   \n",
       "4  Fossils found in Kenya suggest that primates r...   \n",
       "\n",
       "                                            question  \\\n",
       "0  What kind of bureaucracy did the Normans insti...   \n",
       "1  Along what geographic feature are nine residen...   \n",
       "2  What could the Supplemental Nutrition Assistan...   \n",
       "3               What planet do the Daleks come from?   \n",
       "4           How long ago did primates inhabit Kenya?   \n",
       "\n",
       "                                              answer  \\\n",
       "0         [meritocratic, meritocratic, meritocratic]   \n",
       "1      [Charles River, Charles River, Charles River]   \n",
       "2        [essentials, only \"essentials\", essentials]   \n",
       "3                              [Skaro, Skaro, Skaro]   \n",
       "4  [more than 20 million years ago, 20 million ye...   \n",
       "\n",
       "                              prediction  em        f1  \n",
       "0                              feudalism   ❌  0.000000  \n",
       "1                                  River   ❌  0.666667  \n",
       "2  food at authorized retail food stores   ❌  0.000000  \n",
       "3                                  Skaro  ✔️  1.000000  \n",
       "4                   23 million years ago   ❌  0.750000  "
      ]
     },
     "execution_count": 57,
     "metadata": {},
     "output_type": "execute_result"
    }
   ],
   "source": [
    "few_shot_openqa_results['df'].head()"
   ]
  },
  {
   "cell_type": "code",
   "execution_count": 58,
   "id": "8fcb9157-bfde-4990-9379-3194b2cd4705",
   "metadata": {},
   "outputs": [
    {
     "name": "stderr",
     "output_type": "stream",
     "text": [
      " 20%|██        | 5/25 [00:10<00:40,  2.02s/it]"
     ]
    },
    {
     "name": "stdout",
     "output_type": "stream",
     "text": [
      "Backing off 0.9 seconds after 1 tries calling function <function Cohere.request at 0x1603dad40> with kwargs {'num_generations': 1}\n",
      "Backing off 1.1 seconds after 2 tries calling function <function Cohere.request at 0x1603dad40> with kwargs {'num_generations': 1}\n",
      "Backing off 1.8 seconds after 3 tries calling function <function Cohere.request at 0x1603dad40> with kwargs {'num_generations': 1}\n",
      "Backing off 1.9 seconds after 4 tries calling function <function Cohere.request at 0x1603dad40> with kwargs {'num_generations': 1}\n",
      "Backing off 9.1 seconds after 5 tries calling function <function Cohere.request at 0x1603dad40> with kwargs {'num_generations': 1}\n",
      "Backing off 29.8 seconds after 6 tries calling function <function Cohere.request at 0x1603dad40> with kwargs {'num_generations': 1}\n"
     ]
    },
    {
     "name": "stderr",
     "output_type": "stream",
     "text": [
      " 40%|████      | 10/25 [01:43<02:09,  8.63s/it]"
     ]
    },
    {
     "name": "stdout",
     "output_type": "stream",
     "text": [
      "Backing off 0.3 seconds after 1 tries calling function <function Cohere.request at 0x1603dad40> with kwargs {'num_generations': 1}\n",
      "Backing off 0.8 seconds after 2 tries calling function <function Cohere.request at 0x1603dad40> with kwargs {'num_generations': 1}\n",
      "Backing off 2.8 seconds after 3 tries calling function <function Cohere.request at 0x1603dad40> with kwargs {'num_generations': 1}\n",
      "Backing off 4.3 seconds after 4 tries calling function <function Cohere.request at 0x1603dad40> with kwargs {'num_generations': 1}\n",
      "Backing off 11.9 seconds after 5 tries calling function <function Cohere.request at 0x1603dad40> with kwargs {'num_generations': 1}\n"
     ]
    },
    {
     "name": "stderr",
     "output_type": "stream",
     "text": [
      " 60%|██████    | 15/25 [02:45<01:07,  6.80s/it]"
     ]
    },
    {
     "name": "stdout",
     "output_type": "stream",
     "text": [
      "Backing off 0.0 seconds after 1 tries calling function <function Cohere.request at 0x1603dad40> with kwargs {'num_generations': 1}\n",
      "Backing off 1.9 seconds after 2 tries calling function <function Cohere.request at 0x1603dad40> with kwargs {'num_generations': 1}\n",
      "Backing off 0.1 seconds after 3 tries calling function <function Cohere.request at 0x1603dad40> with kwargs {'num_generations': 1}\n",
      "Backing off 3.8 seconds after 4 tries calling function <function Cohere.request at 0x1603dad40> with kwargs {'num_generations': 1}\n",
      "Backing off 6.0 seconds after 5 tries calling function <function Cohere.request at 0x1603dad40> with kwargs {'num_generations': 1}\n",
      "Backing off 9.2 seconds after 6 tries calling function <function Cohere.request at 0x1603dad40> with kwargs {'num_generations': 1}\n"
     ]
    },
    {
     "name": "stderr",
     "output_type": "stream",
     "text": [
      " 80%|████████  | 20/25 [03:55<00:37,  7.47s/it]"
     ]
    },
    {
     "name": "stdout",
     "output_type": "stream",
     "text": [
      "Backing off 0.5 seconds after 1 tries calling function <function Cohere.request at 0x1603dad40> with kwargs {'num_generations': 1}\n",
      "Backing off 1.9 seconds after 2 tries calling function <function Cohere.request at 0x1603dad40> with kwargs {'num_generations': 1}\n",
      "Backing off 0.0 seconds after 3 tries calling function <function Cohere.request at 0x1603dad40> with kwargs {'num_generations': 1}\n",
      "Backing off 6.5 seconds after 4 tries calling function <function Cohere.request at 0x1603dad40> with kwargs {'num_generations': 1}\n",
      "Backing off 12.7 seconds after 5 tries calling function <function Cohere.request at 0x1603dad40> with kwargs {'num_generations': 1}\n"
     ]
    },
    {
     "name": "stderr",
     "output_type": "stream",
     "text": [
      "100%|██████████| 25/25 [04:59<00:00, 11.97s/it]"
     ]
    },
    {
     "name": "stdout",
     "output_type": "stream",
     "text": [
      "72.0\n",
      "0.8327705627705627\n"
     ]
    },
    {
     "name": "stderr",
     "output_type": "stream",
     "text": [
      "\n"
     ]
    }
   ],
   "source": [
    "few_shot_qa_results = evaluateAnswer(few_shot_qa_with_context, tiny_dev)\n",
    "\n",
    "print(few_shot_qa_results['em'])\n",
    "print(few_shot_qa_results['f1'])"
   ]
  },
  {
   "cell_type": "code",
   "execution_count": 59,
   "id": "2e2b7e4a",
   "metadata": {},
   "outputs": [
    {
     "data": {
      "text/html": [
       "<div>\n",
       "<style scoped>\n",
       "    .dataframe tbody tr th:only-of-type {\n",
       "        vertical-align: middle;\n",
       "    }\n",
       "\n",
       "    .dataframe tbody tr th {\n",
       "        vertical-align: top;\n",
       "    }\n",
       "\n",
       "    .dataframe thead th {\n",
       "        text-align: right;\n",
       "    }\n",
       "</style>\n",
       "<table border=\"1\" class=\"dataframe\">\n",
       "  <thead>\n",
       "    <tr style=\"text-align: right;\">\n",
       "      <th></th>\n",
       "      <th>id</th>\n",
       "      <th>title</th>\n",
       "      <th>context</th>\n",
       "      <th>question</th>\n",
       "      <th>answer</th>\n",
       "      <th>prediction</th>\n",
       "      <th>em</th>\n",
       "      <th>f1</th>\n",
       "    </tr>\n",
       "  </thead>\n",
       "  <tbody>\n",
       "    <tr>\n",
       "      <th>0</th>\n",
       "      <td>56de0ed14396321400ee257b</td>\n",
       "      <td>Normans</td>\n",
       "      <td>Institutionally, the Normans combined the admi...</td>\n",
       "      <td>What kind of bureaucracy did the Normans insti...</td>\n",
       "      <td>[meritocratic, meritocratic, meritocratic]</td>\n",
       "      <td>meritocratic</td>\n",
       "      <td>✔️</td>\n",
       "      <td>1.0</td>\n",
       "    </tr>\n",
       "    <tr>\n",
       "      <th>1</th>\n",
       "      <td>5727c8863acd2414000dec4b</td>\n",
       "      <td>Harvard_University</td>\n",
       "      <td>Harvard's 209-acre (85 ha) main campus is cent...</td>\n",
       "      <td>Along what geographic feature are nine residen...</td>\n",
       "      <td>[Charles River, Charles River, Charles River]</td>\n",
       "      <td>Charles River</td>\n",
       "      <td>✔️</td>\n",
       "      <td>1.0</td>\n",
       "    </tr>\n",
       "    <tr>\n",
       "      <th>2</th>\n",
       "      <td>57097c8fed30961900e841f3</td>\n",
       "      <td>Sky_(United_Kingdom)</td>\n",
       "      <td>The Daily Mail newspaper reported in 2012 that...</td>\n",
       "      <td>What could the Supplemental Nutrition Assistan...</td>\n",
       "      <td>[essentials, only \"essentials\", essentials]</td>\n",
       "      <td>essentials</td>\n",
       "      <td>✔️</td>\n",
       "      <td>1.0</td>\n",
       "    </tr>\n",
       "    <tr>\n",
       "      <th>3</th>\n",
       "      <td>572812eaff5b5019007d9c81</td>\n",
       "      <td>Doctor_Who</td>\n",
       "      <td>The Dalek race, which first appeared in the sh...</td>\n",
       "      <td>What planet do the Daleks come from?</td>\n",
       "      <td>[Skaro, Skaro, Skaro]</td>\n",
       "      <td>Skaro</td>\n",
       "      <td>✔️</td>\n",
       "      <td>1.0</td>\n",
       "    </tr>\n",
       "    <tr>\n",
       "      <th>4</th>\n",
       "      <td>5728fa576aef051400154920</td>\n",
       "      <td>Kenya</td>\n",
       "      <td>Fossils found in Kenya suggest that primates r...</td>\n",
       "      <td>How long ago did primates inhabit Kenya?</td>\n",
       "      <td>[more than 20 million years ago, 20 million ye...</td>\n",
       "      <td>more than 20 million years ago</td>\n",
       "      <td>✔️</td>\n",
       "      <td>1.0</td>\n",
       "    </tr>\n",
       "  </tbody>\n",
       "</table>\n",
       "</div>"
      ],
      "text/plain": [
       "                         id                 title  \\\n",
       "0  56de0ed14396321400ee257b               Normans   \n",
       "1  5727c8863acd2414000dec4b    Harvard_University   \n",
       "2  57097c8fed30961900e841f3  Sky_(United_Kingdom)   \n",
       "3  572812eaff5b5019007d9c81            Doctor_Who   \n",
       "4  5728fa576aef051400154920                 Kenya   \n",
       "\n",
       "                                             context  \\\n",
       "0  Institutionally, the Normans combined the admi...   \n",
       "1  Harvard's 209-acre (85 ha) main campus is cent...   \n",
       "2  The Daily Mail newspaper reported in 2012 that...   \n",
       "3  The Dalek race, which first appeared in the sh...   \n",
       "4  Fossils found in Kenya suggest that primates r...   \n",
       "\n",
       "                                            question  \\\n",
       "0  What kind of bureaucracy did the Normans insti...   \n",
       "1  Along what geographic feature are nine residen...   \n",
       "2  What could the Supplemental Nutrition Assistan...   \n",
       "3               What planet do the Daleks come from?   \n",
       "4           How long ago did primates inhabit Kenya?   \n",
       "\n",
       "                                              answer  \\\n",
       "0         [meritocratic, meritocratic, meritocratic]   \n",
       "1      [Charles River, Charles River, Charles River]   \n",
       "2        [essentials, only \"essentials\", essentials]   \n",
       "3                              [Skaro, Skaro, Skaro]   \n",
       "4  [more than 20 million years ago, 20 million ye...   \n",
       "\n",
       "                       prediction  em   f1  \n",
       "0                    meritocratic  ✔️  1.0  \n",
       "1                   Charles River  ✔️  1.0  \n",
       "2                      essentials  ✔️  1.0  \n",
       "3                           Skaro  ✔️  1.0  \n",
       "4  more than 20 million years ago  ✔️  1.0  "
      ]
     },
     "execution_count": 59,
     "metadata": {},
     "output_type": "execute_result"
    }
   ],
   "source": [
    "few_shot_qa_results['df'].head()"
   ]
  },
  {
   "cell_type": "markdown",
   "id": "eeb28556-d901-4b6b-8a7d-93040203294d",
   "metadata": {},
   "source": [
    "## Question 1: Few-shot OpenQA with context [3 points]"
   ]
  },
  {
   "cell_type": "markdown",
   "id": "1f481081-3e16-4ccd-b379-c7e0c3011286",
   "metadata": {},
   "source": [
    "Your task here is to define a first instance of our target system: Few-shot OpenQA with context passages. To do this, you simply complete `few_shot_openqa_with_context`:"
   ]
  },
  {
   "cell_type": "code",
   "execution_count": 71,
   "id": "6ca394a8-be1a-4dfb-b9f6-b40f6b1fb146",
   "metadata": {},
   "outputs": [],
   "source": [
    "@dsp.transformation\n",
    "def few_shot_openqa_with_context(example, train=squad_train, k=3):\n",
    "    pass\n",
    "    # Sample `k` demonstrations from `train`:\n",
    "    ##### YOUR CODE HERE\n",
    "    example.demos = dsp.sample(train, k=k)\n",
    "\n",
    "\n",
    "\n",
    "    # For each demonstration, retrieve one passage and add it\n",
    "    # as the `context` attribute` so we can use our template\n",
    "    # `qa_template_with_passages`:\n",
    "    ##### YOUR CODE HERE\n",
    "    for d in example.demos:\n",
    "        d.context = dsp.retrieve(d.question, k=1)[0]\n",
    "\n",
    "\n",
    "\n",
    "    # Add the list of demonstrations to `example` as the `demos` attribute:\n",
    "    ##### YOUR CODE HERE\n",
    "\n",
    "\n",
    "\n",
    "    # Retrieve a context passage for `example` itself and add it\n",
    "    # as the `context` attribute:\n",
    "    ##### YOUR CODE HERE\n",
    "    example.context = dsp.retrieve(example.question, k=1)[0]\n",
    "\n",
    "\n",
    "\n",
    "    # Use `dsp.generate` to call the model on `example` using\n",
    "    # `qa_template_with_passages`:\n",
    "    ##### YOUR CODE HERE\n",
    "    generator = dsp.generate(qa_template_with_passages)\n",
    "    example, completions = generator(example, stage='qa')\n",
    "\n",
    "\n",
    "\n",
    "    # Return the Completions instance returned by `dsp.generate`:\n",
    "    ##### YOUR CODE HERE\n",
    "    return completions\n",
    "\n",
    "\n"
   ]
  },
  {
   "cell_type": "markdown",
   "id": "271fd165-fd7f-4943-8af4-a83f0d976453",
   "metadata": {},
   "source": [
    "A quick test you can use:"
   ]
  },
  {
   "cell_type": "code",
   "execution_count": 67,
   "id": "1568f224-e6bb-443c-ae75-dd55a062d9fc",
   "metadata": {},
   "outputs": [],
   "source": [
    "def test_few_shot_openqa_with_context(func):\n",
    "    ex = dsp.Example(question=\"Q0\", context=\"C0\", answer=[\"A0\"])\n",
    "    train = [\n",
    "        dsp.Example(question=\"Q1\", context=None, answer=[\"A1\"]),\n",
    "        dsp.Example(question=\"Q2\", context=None, answer=[\"A2\"]),\n",
    "        dsp.Example(question=\"Q3\", context=None, answer=[\"A3\"])]\n",
    "    compl = func(ex, train=train, k=2)\n",
    "    errcount = 0\n",
    "    # Check the LM was used as expected:\n",
    "    if len(compl.data) != 1:\n",
    "        errcount += 1\n",
    "        print(f\"Error for `{func.__name__}`: Unexpected LM output.\")\n",
    "    data = compl.data[0]\n",
    "    # Check that the right number of demos was used:\n",
    "    demos = data['demos']\n",
    "    if len(demos) > 2:\n",
    "        errcount += 1\n",
    "        print(f\"Error for `{func.__name__}`: \"\n",
    "              f\"Unexpected demo count: {len(demos)}\")\n",
    "    # Check that context passages were included in the prompt:\n",
    "    fields = compl.template.fields\n",
    "    if not any(f.name == 'Context:' for f in fields):\n",
    "        errcount += 1\n",
    "        print(f\"Error for `{func.__name__}`: \"\n",
    "              f\"No context passages in the prompt.\")\n",
    "    # Check that the context passages were retrieved:\n",
    "    if data['context'] == \"C0\":\n",
    "        errcount += 1\n",
    "        print(f\"Error for `{func.__name__}`: \"\n",
    "              f\"No context passage retrieved for the target.\")\n",
    "    for d in demos:\n",
    "        if d['context'] is None:\n",
    "            errcount += 1\n",
    "            print(f\"Error for `{func.__name__}`: \"\n",
    "                  f\"No context passage retrieved for demo {d}.\")\n",
    "    if errcount == 0:\n",
    "        print(f\"No errors found for `{func.__name__}`\")"
   ]
  },
  {
   "cell_type": "code",
   "execution_count": 68,
   "id": "8efe5f07-df96-4d95-8334-8c4966b66269",
   "metadata": {},
   "outputs": [
    {
     "name": "stdout",
     "output_type": "stream",
     "text": [
      "No errors found for `few_shot_openqa_with_context`\n"
     ]
    }
   ],
   "source": [
    "test_few_shot_openqa_with_context(few_shot_openqa_with_context)"
   ]
  },
  {
   "cell_type": "code",
   "execution_count": 72,
   "id": "2448dfa0-e945-44b6-a487-70e49675cf61",
   "metadata": {},
   "outputs": [
    {
     "name": "stdout",
     "output_type": "stream",
     "text": [
      "meritocratic bureaucracy\n"
     ]
    }
   ],
   "source": [
    "print(few_shot_openqa_with_context(dev_exs[0]).answer)"
   ]
  },
  {
   "cell_type": "code",
   "execution_count": 73,
   "id": "e9855ec2-84cc-4a2f-ad47-502c26e44dd8",
   "metadata": {},
   "outputs": [
    {
     "name": "stdout",
     "output_type": "stream",
     "text": [
      "\n",
      "\n",
      "\n",
      "\n",
      "Answer questions with short factoid answers.\n",
      "\n",
      "---\n",
      "\n",
      "Follow the following format.\n",
      "\n",
      "Context:\n",
      "${sources that may contain relevant content}\n",
      "\n",
      "Question: ${the question to be answered}\n",
      "\n",
      "Answer: ${a short factoid answer, often between 1 and 5 words}\n",
      "\n",
      "---\n",
      "\n",
      "Context:\n",
      "Janet (album) | worldwide sales of over 14 million copies, it is Janet's best selling album. Although Jackson has reached superstar status in the United States, she has yet to achieve the same level of response internationally. According to Nacy Berry, vice chairman of Virgin Records, \"Janet\" marked the first time the label \"had centrally coordinated and strategized a campaign on a worldwide basis\" which ultimately brought her to a plateau of global recognition. Her historic multimillion-dollar contract made her the highest-paid artist in history, until brother Michael renegotiated his contract with Sony Music Entertainment only days later. Sonia Murry noted that she\n",
      "Question: What album made her a worldwide known artist?\n",
      "Answer: Dangerously in Love\n",
      "\n",
      "---\n",
      "\n",
      "Context:\n",
      "Oligoclonal band | immunoassay\" are able to detect IgG OCBs in more than 95% of multiple sclerosis patients. Even more than 12 OCBs can appear in MS. Each one of them represent antibody proteins (or protein fragments) secreted by plasma cells, although why exactly these bands are present, and which proteins these bands represent, has not yet been fully elucidated. The target antigens for these antibodies are not easy to find because it requires to isolate a single kind of protein in each band, though new techniques are able to do so. In 40% of MS patients with OCBs, antibodies specific to the\n",
      "Question: Immunoassays are able to detect what type of proteins?\n",
      "Answer: generated by an infected organism in response to a foreign agent\n",
      "\n",
      "---\n",
      "\n",
      "Context:\n",
      "Gothic architecture | and Sweden and Sicily. The same wide geographic area was then affected by the development of Gothic architecture, but the acceptance of the Gothic style and methods of construction differed from place to place, as did the expressions of Gothic taste. The proximity of some regions meant that modern country borders did not define divisions of style. On the other hand, some regions such as England and Spain produced defining characteristics rarely seen elsewhere, except where they have been carried by itinerant craftsmen, or the transfer of bishops. Many different factors like geographical/geological, economic, social, or political situations caused the\n",
      "Question: Why did country borders not affect differences in style within Gothic architecture?\n",
      "Answer: proximity of some regions\n",
      "\n",
      "---\n",
      "\n",
      "Context:\n",
      "Normans | Cappella Palatina at Palermo, which dot the landscape and give a distinct architectural flavor to accompany its unique history. Institutionally, the Normans combined the administrative machinery of the Byzantines, Arabs, and Lombards with their own conceptions of feudal law and order to forge a unique government. Under this state, there was great religious freedom, and alongside the Norman nobles existed a meritocratic bureaucracy of Jews, Muslims and Christians, both Catholic and Eastern Orthodox. The Kingdom of Sicily thus became characterized by Norman, Byzantine, Greek, Arab, Lombard and \"native\" Sicilian populations living in harmony, and its Norman rulers fostered plans of\n",
      "\n",
      "Question: What kind of bureaucracy did the Normans institute?\n",
      "\n",
      "Answer:\u001b[32m meritocratic bureaucracy\u001b[0m\n",
      "\n",
      "\n",
      "\n"
     ]
    }
   ],
   "source": [
    "lm.inspect_history(n=1)"
   ]
  },
  {
   "cell_type": "markdown",
   "id": "ddccccd5-78f9-47f6-b1d1-7f1171a12b51",
   "metadata": {},
   "source": [
    "Here's an optional evaluation of the system using `tiny_dev`:"
   ]
  },
  {
   "cell_type": "code",
   "execution_count": 74,
   "id": "11f2f036-f18f-4be2-983f-283c07d3e019",
   "metadata": {},
   "outputs": [
    {
     "name": "stderr",
     "output_type": "stream",
     "text": [
      " 20%|██        | 5/25 [00:18<01:24,  4.25s/it]"
     ]
    },
    {
     "name": "stdout",
     "output_type": "stream",
     "text": [
      "Backing off 0.5 seconds after 1 tries calling function <function Cohere.request at 0x1603dad40> with kwargs {'num_generations': 1}\n",
      "Backing off 0.3 seconds after 2 tries calling function <function Cohere.request at 0x1603dad40> with kwargs {'num_generations': 1}\n",
      "Backing off 3.9 seconds after 3 tries calling function <function Cohere.request at 0x1603dad40> with kwargs {'num_generations': 1}\n",
      "Backing off 0.7 seconds after 4 tries calling function <function Cohere.request at 0x1603dad40> with kwargs {'num_generations': 1}\n",
      "Backing off 4.7 seconds after 5 tries calling function <function Cohere.request at 0x1603dad40> with kwargs {'num_generations': 1}\n"
     ]
    },
    {
     "name": "stderr",
     "output_type": "stream",
     "text": [
      " 40%|████      | 10/25 [01:25<01:51,  7.41s/it]"
     ]
    },
    {
     "name": "stdout",
     "output_type": "stream",
     "text": [
      "Backing off 0.2 seconds after 1 tries calling function <function Cohere.request at 0x1603dad40> with kwargs {'num_generations': 1}\n",
      "Backing off 1.3 seconds after 2 tries calling function <function Cohere.request at 0x1603dad40> with kwargs {'num_generations': 1}\n",
      "Backing off 3.9 seconds after 3 tries calling function <function Cohere.request at 0x1603dad40> with kwargs {'num_generations': 1}\n",
      "Backing off 3.7 seconds after 4 tries calling function <function Cohere.request at 0x1603dad40> with kwargs {'num_generations': 1}\n"
     ]
    },
    {
     "name": "stderr",
     "output_type": "stream",
     "text": [
      " 60%|██████    | 15/25 [02:21<01:07,  6.77s/it]"
     ]
    },
    {
     "name": "stdout",
     "output_type": "stream",
     "text": [
      "Backing off 0.0 seconds after 1 tries calling function <function Cohere.request at 0x1603dad40> with kwargs {'num_generations': 1}\n",
      "Backing off 0.4 seconds after 2 tries calling function <function Cohere.request at 0x1603dad40> with kwargs {'num_generations': 1}\n",
      "Backing off 0.4 seconds after 3 tries calling function <function Cohere.request at 0x1603dad40> with kwargs {'num_generations': 1}\n",
      "Backing off 3.6 seconds after 4 tries calling function <function Cohere.request at 0x1603dad40> with kwargs {'num_generations': 1}\n",
      "Backing off 9.3 seconds after 5 tries calling function <function Cohere.request at 0x1603dad40> with kwargs {'num_generations': 1}\n"
     ]
    },
    {
     "name": "stderr",
     "output_type": "stream",
     "text": [
      " 80%|████████  | 20/25 [03:20<00:34,  6.94s/it]"
     ]
    },
    {
     "name": "stdout",
     "output_type": "stream",
     "text": [
      "Backing off 0.1 seconds after 1 tries calling function <function Cohere.request at 0x1603dad40> with kwargs {'num_generations': 1}\n",
      "Backing off 1.6 seconds after 2 tries calling function <function Cohere.request at 0x1603dad40> with kwargs {'num_generations': 1}\n",
      "Backing off 1.4 seconds after 3 tries calling function <function Cohere.request at 0x1603dad40> with kwargs {'num_generations': 1}\n",
      "Backing off 1.0 seconds after 4 tries calling function <function Cohere.request at 0x1603dad40> with kwargs {'num_generations': 1}\n",
      "Backing off 6.6 seconds after 5 tries calling function <function Cohere.request at 0x1603dad40> with kwargs {'num_generations': 1}\n"
     ]
    },
    {
     "name": "stderr",
     "output_type": "stream",
     "text": [
      "100%|██████████| 25/25 [04:20<00:00, 10.42s/it]\n"
     ]
    },
    {
     "data": {
      "text/plain": [
       "0.4724137529137529"
      ]
     },
     "execution_count": 74,
     "metadata": {},
     "output_type": "execute_result"
    }
   ],
   "source": [
    "few_shot_openqa_with_context_results = evaluateAnswer(\n",
    "    few_shot_openqa_with_context, tiny_dev)\n"
   ]
  },
  {
   "cell_type": "code",
   "execution_count": 77,
   "id": "1956aecf",
   "metadata": {},
   "outputs": [
    {
     "name": "stdout",
     "output_type": "stream",
     "text": [
      "32.0\n",
      "0.4724137529137529\n"
     ]
    }
   ],
   "source": [
    "print(few_shot_openqa_with_context_results['em'])\n",
    "print(few_shot_openqa_with_context_results['f1'])\n"
   ]
  },
  {
   "cell_type": "markdown",
   "id": "9971ffd0-a563-4d56-a896-0735a63ae92f",
   "metadata": {
    "tags": []
   },
   "source": [
    "## Question 2: Using annotate"
   ]
  },
  {
   "cell_type": "markdown",
   "id": "054b0fbd-b21b-4b6f-a24c-54235ad1833a",
   "metadata": {},
   "source": [
    "This question is designed to give you some experience with DSP's powerful `annotate` method. You can think of this as a generic tool for defining general aspects of your prompt. Here we will use it to filter the set of demonstrations we use.\n",
    "\n",
    "The overall idea here is that the demonstrations we sample might vary in quality in ways that could impact model performance. For example, if we want to try to push the model to provide extractive answers as in classical QA – answers that are substrings of the evidence passage – then it works against our interests to include demonstrations where the model is unabel to do this.\n",
    "\n",
    "We will do this in two parts to facilitate testing."
   ]
  },
  {
   "cell_type": "markdown",
   "id": "d268d575-7cfc-4fb6-9d12-87fcc14c59c1",
   "metadata": {},
   "source": [
    "### Task 1: Filtering demonstrations 1 [2 points]"
   ]
  },
  {
   "cell_type": "markdown",
   "id": "ae208ecb-1569-4c4a-b105-828084f458ef",
   "metadata": {},
   "source": [
    "This is the heart of the question: complete `filter_demos` so that, given a demonstration `d` and a list of demonstrations `demos`, it keeps `d` if and only if\n",
    "\n",
    "1. The passage retrieved for `d` contrains `d.answer`, and\n",
    "2. The model's generation for `d` based on `qa_template_with_passages` contains `d.answer`."
   ]
  },
  {
   "cell_type": "code",
   "execution_count": 100,
   "id": "8d90e4d8-9ecb-4273-93f0-5d0550ec8da1",
   "metadata": {},
   "outputs": [],
   "source": [
    "@dsp.transformation\n",
    "def filter_demos(d):\n",
    "\n",
    "    # Retrieve a passage for `d.question` and make sure that it\n",
    "    # contains `d.answer`. Use `dsp.passage_match` for this!\n",
    "    # return None if there is no match.\n",
    "    ##### YOUR CODE HERE\n",
    "    passage = dsp.retrieve(d.question, k=1)\n",
    "    if not dsp.passage_match(passage, d.answer):\n",
    "        return None\n",
    "    \n",
    "\n",
    "\n",
    "\n",
    "    # Sample `k=3` demonstrations to help the model assess this\n",
    "    # potential demonstration:\n",
    "    ##### YOUR CODE HERE\n",
    "    d.demos = dsp.sample(squad_train, k=3)\n",
    "\n",
    "\n",
    "\n",
    "    # Generate an answer based on `qa_template_with_passages`\n",
    "    # and use `dsp.answer_match` to check that the predicted answer\n",
    "    # contains `d.answer`. If it does not, return None.\n",
    "    ##### YOUR CODE HERE\n",
    "    ex, ex_compl = dsp.generate(qa_template_with_passages)(d, stage='qa')\n",
    "    if not dsp.answer_match(ex_compl.answer, d.answer):\n",
    "        return None\n",
    "\n",
    "\n",
    "    # Return d, if you got this far:\n",
    "    ##### YOUR CODE HERE\n",
    "    return d\n",
    "\n",
    "\n"
   ]
  },
  {
   "cell_type": "markdown",
   "id": "9674c760-e507-4b60-9f17-5fc91500a68e",
   "metadata": {},
   "source": [
    "Here's a test; this is not an ideal unit test because we don't know which LM you will be using, but it should clarify our intentions and help you with debugging."
   ]
  },
  {
   "cell_type": "code",
   "execution_count": 89,
   "id": "66812d32-cc0b-4736-8483-4bb3812f1e9f",
   "metadata": {},
   "outputs": [],
   "source": [
    "def test_filter_demos(func):\n",
    "    # This example should be filtered at the retrieval step, since\n",
    "    # 👽 is not in the index:\n",
    "    ex1 = dsp.Example(\n",
    "        question=\"Who is 👽?\", context=\"C0\", answer=[\"👽\"])\n",
    "    result1 = func(ex1)\n",
    "    errcount = 0\n",
    "    if result1 is not None:\n",
    "        errcount += 1\n",
    "        print(f\"Error for `{func.__name__}`: Expected {None}, got {result1}\")\n",
    "    # This example should not be filtered given our tester LM:\n",
    "    ex2 = dsp.Example(\n",
    "        question=\"Who is Beyoncé?\", context=\"C0\", answer=[\"Beyoncé\"])\n",
    "    # This example should be filtered given our tester LM:\n",
    "    ex3 = dsp.Example(\n",
    "        question=\"Who is Beyoncé?\", context=\"C0\", answer=[\"NO MATCH\"])\n",
    "    class TestLM:\n",
    "        def __init__(self, **kwargs):\n",
    "            self.kwargs = kwargs\n",
    "            self.history = []\n",
    "\n",
    "        def __call__(self, prompt, **kwargs):\n",
    "            answer = [\"Beyoncé\"]\n",
    "            return answer\n",
    "    dsp.settings.configure(lm=TestLM(), rm=rm)\n",
    "    try:\n",
    "        result2 = func(ex2)\n",
    "        if result2 is None:\n",
    "            errcount += 1\n",
    "            print(f\"Error for `{func.__name__}`: \"\n",
    "                  f\"Expected example not to be filtered by `answer_match`.\")\n",
    "        result3 = func(ex3)\n",
    "        if result3 is not None:\n",
    "            errcount += 1\n",
    "            print(f\"Error for `{func.__name__}`: \"\n",
    "                  f\"Expected example to be filtered by `answer_match`.\")\n",
    "    except:\n",
    "        raise\n",
    "    finally:\n",
    "        # Restore the actual model:\n",
    "        dsp.settings.configure(lm=lm, rm=rm)\n",
    "    if errcount == 0:\n",
    "        print(f\"No errors detected for `{func.__name__}`\")"
   ]
  },
  {
   "cell_type": "code",
   "execution_count": 90,
   "id": "ef762c5a-68cf-422a-bec4-aa369f73aa87",
   "metadata": {},
   "outputs": [
    {
     "name": "stdout",
     "output_type": "stream",
     "text": [
      "No errors detected for `filter_demos`\n"
     ]
    }
   ],
   "source": [
    "test_filter_demos(filter_demos)"
   ]
  },
  {
   "cell_type": "markdown",
   "id": "5b897f65-b966-499a-87f1-dd7f8625d069",
   "metadata": {},
   "source": [
    "### Task 2: Full filtering program [1 point]"
   ]
  },
  {
   "cell_type": "markdown",
   "id": "5c08168b-64fe-4965-94f5-c3dc4675dc8a",
   "metadata": {},
   "source": [
    "The task is to complete `few_shot_openqa_with_context_and_demo_filtering` as a few-shot OpenQA system like the one from Question 1, but using the filtering mechanism defined by `filter_demos`."
   ]
  },
  {
   "cell_type": "code",
   "execution_count": 96,
   "id": "e2d3601f-1f61-4f6a-b8d9-09ce515f19c4",
   "metadata": {},
   "outputs": [],
   "source": [
    "@dsp.transformation\n",
    "def few_shot_openqa_with_context_and_demo_filtering(example, train=squad_train, k=3):\n",
    "\n",
    "    # Sample 20 demonstrations:\n",
    "    ##### YOUR CODE HERE\n",
    "    demos = dsp.sample(train, k=20)\n",
    "\n",
    "\n",
    "\n",
    "    # Filter the demonstrations using `annotate` and `filter_demos`.\n",
    "    # The user's `k` should be used to specify the maximum number of\n",
    "    # demonstrations kept at this stage.\n",
    "    ##### YOUR CODE HERE\n",
    "    demos = dsp.annotate(filter_demos)(demos, k=k)\n",
    "\n",
    "\n",
    "\n",
    "    # Add the list of filtered demonstrations as a the `demos`\n",
    "    # attribute of `example`:\n",
    "    ##### YOUR CODE HERE\n",
    "    example.demos = demos\n",
    "\n",
    "\n",
    "    # Retrieve a context passage for `example.question` and add it\n",
    "    # as the `context` attribute for the example:\n",
    "    ##### YOUR CODE HERE\n",
    "    example.context = dsp.retrieve(example.question, k=1)[0]\n",
    "\n",
    "\n",
    "    # Generate a prediction using `qa_template_with_passages` as\n",
    "    # we did before:\n",
    "    ##### YOUR CODE HERE\n",
    "    ex, ex_compl = dsp.generate(qa_template_with_passages)(example, stage='qa')\n",
    "\n",
    "\n",
    "\n",
    "    # Return the generated `Completions` instance:\n",
    "    ##### YOUR CODE HERE\n",
    "    return ex_compl\n",
    "\n",
    "\n"
   ]
  },
  {
   "cell_type": "markdown",
   "id": "fa4db956-79a8-4092-a553-91f0d79f3084",
   "metadata": {},
   "source": [
    "Our previous test should suffice to help with debugging this program:"
   ]
  },
  {
   "cell_type": "code",
   "execution_count": 97,
   "id": "4fc93545-cd13-49a3-840c-385d29bb397f",
   "metadata": {},
   "outputs": [
    {
     "name": "stdout",
     "output_type": "stream",
     "text": [
      "No errors found for `few_shot_openqa_with_context_and_demo_filtering`\n"
     ]
    }
   ],
   "source": [
    "test_few_shot_openqa_with_context(\n",
    "    few_shot_openqa_with_context_and_demo_filtering)"
   ]
  },
  {
   "cell_type": "markdown",
   "id": "7c55dbeb-031d-4429-8669-17162d2ea05b",
   "metadata": {},
   "source": [
    "Quiick example:"
   ]
  },
  {
   "cell_type": "code",
   "execution_count": 98,
   "id": "26f0964f-136a-4e85-9944-4472dcd5cbc3",
   "metadata": {},
   "outputs": [
    {
     "name": "stdout",
     "output_type": "stream",
     "text": [
      "meritocratic\n"
     ]
    }
   ],
   "source": [
    "print(few_shot_openqa_with_context_and_demo_filtering(dev_exs[0]).answer)"
   ]
  },
  {
   "cell_type": "code",
   "execution_count": 99,
   "id": "ea4224d4-cedc-4f58-a0b6-20b8f22d0317",
   "metadata": {},
   "outputs": [
    {
     "name": "stdout",
     "output_type": "stream",
     "text": [
      "\n",
      "\n",
      "\n",
      "\n",
      "Answer questions with short factoid answers.\n",
      "\n",
      "---\n",
      "\n",
      "Follow the following format.\n",
      "\n",
      "Context:\n",
      "${sources that may contain relevant content}\n",
      "\n",
      "Question: ${the question to be answered}\n",
      "\n",
      "Answer: ${a short factoid answer, often between 1 and 5 words}\n",
      "\n",
      "---\n",
      "\n",
      "Context:\n",
      "AC radio stations may play mainstream music, but they will exclude hip hop, dance tracks, hard rock, and some forms of teen pop, as they are less popular amongst the target demographic of these radio stations, which is intended for an adult audience. AC radio often targets the 25–44 age group, the demographic that has received the most attention from advertisers since the 1960s. A common practice in recent years is that many adult contemporary stations play less newer music because they also give ample airtime to hits of the past, so the de-emphasis on new songs slows the progression of the AC chart.\n",
      "\n",
      "Question: What type of music are AC stations noted as playing less of versus hits of the past?\n",
      "\n",
      "Answer: newer music\n",
      "\n",
      "---\n",
      "\n",
      "Context:\n",
      "Zapatist forces, which were based in neighboring Morelos had strengths in the southern edge of the Federal District, which included Xochimilco, Tlalpan, Tláhuac and Milpa Alta to fight against the regimes of Victoriano Huerta and Venustiano Carranza. After the assassination of Carranza and a short mandate by Adolfo de la Huerta, Álvaro Obregón took power. After willing to be re-elected, he was killed by José de León Toral, a devout Catholic, in a restaurant near La Bombilla Park in San Ángel in 1928. Plutarco Elias Calles replaced Obregón and culminated the Mexican Revolution.\n",
      "\n",
      "Question: When was Alvaro Obregon killed?\n",
      "\n",
      "Answer: 1928\n",
      "\n",
      "---\n",
      "\n",
      "Context:\n",
      "Timely's first publication, Marvel Comics #1 (cover dated Oct. 1939), included the first appearance of Carl Burgos' android superhero the Human Torch, and the first appearances of Bill Everett's anti-hero Namor the Sub-Mariner, among other features. The issue was a great success, with it and a second printing the following month selling, combined, nearly 900,000 copies. While its contents came from an outside packager, Funnies, Inc., Timely had its own staff in place by the following year. The company's first true editor, writer-artist Joe Simon, teamed with artist and emerging industry notable Jack Kirby to create one of the first patriotically themed superheroes, Captain America, in Captain America Comics #1 (March 1941). It, too, proved a hit, with sales of nearly one million. Goodman formed Timely Comics, Inc., beginning with comics cover-dated April 1941 or Spring 1941.\n",
      "\n",
      "Question: Besides Simon, who co-created Captain America?\n",
      "\n",
      "Answer: Jack Kirby\n",
      "\n",
      "---\n",
      "\n",
      "Context:\n",
      "Normans | Cappella Palatina at Palermo, which dot the landscape and give a distinct architectural flavor to accompany its unique history. Institutionally, the Normans combined the administrative machinery of the Byzantines, Arabs, and Lombards with their own conceptions of feudal law and order to forge a unique government. Under this state, there was great religious freedom, and alongside the Norman nobles existed a meritocratic bureaucracy of Jews, Muslims and Christians, both Catholic and Eastern Orthodox. The Kingdom of Sicily thus became characterized by Norman, Byzantine, Greek, Arab, Lombard and \"native\" Sicilian populations living in harmony, and its Norman rulers fostered plans of\n",
      "\n",
      "Question: What kind of bureaucracy did the Normans institute?\n",
      "\n",
      "Answer:\u001b[32m meritocratic\u001b[0m\n",
      "\n",
      "\n",
      "\n"
     ]
    }
   ],
   "source": [
    "lm.inspect_history(n=1)"
   ]
  },
  {
   "cell_type": "markdown",
   "id": "c5ae2262-3eea-487b-8e58-96f310892a19",
   "metadata": {},
   "source": [
    "Here is code for an optional initial evaluation with `tiny_dev`:"
   ]
  },
  {
   "cell_type": "code",
   "execution_count": 101,
   "id": "c9c06c67-dd96-46f2-9fac-653d562fc385",
   "metadata": {},
   "outputs": [
    {
     "name": "stderr",
     "output_type": "stream",
     "text": [
      "  0%|          | 0/25 [00:00<?, ?it/s]"
     ]
    },
    {
     "name": "stdout",
     "output_type": "stream",
     "text": [
      "Backing off 0.0 seconds after 1 tries calling function <function Cohere.request at 0x1603dad40> with kwargs {'num_generations': 1}\n",
      "Backing off 1.2 seconds after 2 tries calling function <function Cohere.request at 0x1603dad40> with kwargs {'num_generations': 1}\n",
      "Backing off 0.9 seconds after 3 tries calling function <function Cohere.request at 0x1603dad40> with kwargs {'num_generations': 1}\n",
      "Backing off 7.0 seconds after 4 tries calling function <function Cohere.request at 0x1603dad40> with kwargs {'num_generations': 1}\n",
      "Backing off 6.4 seconds after 5 tries calling function <function Cohere.request at 0x1603dad40> with kwargs {'num_generations': 1}\n"
     ]
    },
    {
     "name": "stderr",
     "output_type": "stream",
     "text": [
      "  4%|▍         | 1/25 [01:02<25:11, 62.98s/it]"
     ]
    },
    {
     "name": "stdout",
     "output_type": "stream",
     "text": [
      "Backing off 0.8 seconds after 1 tries calling function <function Cohere.request at 0x1603dad40> with kwargs {'num_generations': 1}\n",
      "Backing off 1.1 seconds after 2 tries calling function <function Cohere.request at 0x1603dad40> with kwargs {'num_generations': 1}\n",
      "Backing off 1.4 seconds after 3 tries calling function <function Cohere.request at 0x1603dad40> with kwargs {'num_generations': 1}\n",
      "Backing off 3.4 seconds after 4 tries calling function <function Cohere.request at 0x1603dad40> with kwargs {'num_generations': 1}\n",
      "Backing off 5.4 seconds after 5 tries calling function <function Cohere.request at 0x1603dad40> with kwargs {'num_generations': 1}\n",
      "Backing off 7.2 seconds after 6 tries calling function <function Cohere.request at 0x1603dad40> with kwargs {'num_generations': 1}\n"
     ]
    },
    {
     "name": "stderr",
     "output_type": "stream",
     "text": [
      "  8%|▊         | 2/25 [02:10<25:06, 65.49s/it]"
     ]
    },
    {
     "name": "stdout",
     "output_type": "stream",
     "text": [
      "Backing off 0.4 seconds after 1 tries calling function <function Cohere.request at 0x1603dad40> with kwargs {'num_generations': 1}\n",
      "Backing off 1.4 seconds after 2 tries calling function <function Cohere.request at 0x1603dad40> with kwargs {'num_generations': 1}\n",
      "Backing off 0.9 seconds after 3 tries calling function <function Cohere.request at 0x1603dad40> with kwargs {'num_generations': 1}\n",
      "Backing off 6.6 seconds after 4 tries calling function <function Cohere.request at 0x1603dad40> with kwargs {'num_generations': 1}\n",
      "Backing off 0.6 seconds after 5 tries calling function <function Cohere.request at 0x1603dad40> with kwargs {'num_generations': 1}\n",
      "Backing off 13.1 seconds after 6 tries calling function <function Cohere.request at 0x1603dad40> with kwargs {'num_generations': 1}\n"
     ]
    },
    {
     "name": "stderr",
     "output_type": "stream",
     "text": [
      " 12%|█▏        | 3/25 [03:21<24:54, 67.92s/it]"
     ]
    },
    {
     "name": "stdout",
     "output_type": "stream",
     "text": [
      "Backing off 0.2 seconds after 1 tries calling function <function Cohere.request at 0x1603dad40> with kwargs {'num_generations': 1}\n",
      "Backing off 0.7 seconds after 2 tries calling function <function Cohere.request at 0x1603dad40> with kwargs {'num_generations': 1}\n",
      "Backing off 0.5 seconds after 3 tries calling function <function Cohere.request at 0x1603dad40> with kwargs {'num_generations': 1}\n",
      "Backing off 1.4 seconds after 4 tries calling function <function Cohere.request at 0x1603dad40> with kwargs {'num_generations': 1}\n",
      "Backing off 15.2 seconds after 5 tries calling function <function Cohere.request at 0x1603dad40> with kwargs {'num_generations': 1}\n"
     ]
    },
    {
     "name": "stderr",
     "output_type": "stream",
     "text": [
      " 16%|█▌        | 4/25 [04:23<23:01, 65.79s/it]"
     ]
    },
    {
     "name": "stdout",
     "output_type": "stream",
     "text": [
      "Backing off 0.0 seconds after 1 tries calling function <function Cohere.request at 0x1603dad40> with kwargs {'num_generations': 1}\n",
      "Backing off 0.4 seconds after 2 tries calling function <function Cohere.request at 0x1603dad40> with kwargs {'num_generations': 1}\n",
      "Backing off 3.5 seconds after 3 tries calling function <function Cohere.request at 0x1603dad40> with kwargs {'num_generations': 1}\n",
      "Backing off 5.9 seconds after 4 tries calling function <function Cohere.request at 0x1603dad40> with kwargs {'num_generations': 1}\n",
      "Backing off 15.0 seconds after 5 tries calling function <function Cohere.request at 0x1603dad40> with kwargs {'num_generations': 1}\n"
     ]
    },
    {
     "name": "stderr",
     "output_type": "stream",
     "text": [
      " 20%|██        | 5/25 [05:32<22:18, 66.91s/it]"
     ]
    },
    {
     "name": "stdout",
     "output_type": "stream",
     "text": [
      "Backing off 0.4 seconds after 1 tries calling function <function Cohere.request at 0x1603dad40> with kwargs {'num_generations': 1}\n",
      "Backing off 0.2 seconds after 2 tries calling function <function Cohere.request at 0x1603dad40> with kwargs {'num_generations': 1}\n",
      "Backing off 1.3 seconds after 3 tries calling function <function Cohere.request at 0x1603dad40> with kwargs {'num_generations': 1}\n",
      "Backing off 3.9 seconds after 4 tries calling function <function Cohere.request at 0x1603dad40> with kwargs {'num_generations': 1}\n",
      "Backing off 10.5 seconds after 5 tries calling function <function Cohere.request at 0x1603dad40> with kwargs {'num_generations': 1}\n",
      "Backing off 0.4 seconds after 1 tries calling function <function Cohere.request at 0x1603dad40> with kwargs {'num_generations': 1}\n",
      "Backing off 1.1 seconds after 2 tries calling function <function Cohere.request at 0x1603dad40> with kwargs {'num_generations': 1}\n",
      "Backing off 2.0 seconds after 3 tries calling function <function Cohere.request at 0x1603dad40> with kwargs {'num_generations': 1}\n",
      "Backing off 6.2 seconds after 4 tries calling function <function Cohere.request at 0x1603dad40> with kwargs {'num_generations': 1}\n",
      "Backing off 14.9 seconds after 5 tries calling function <function Cohere.request at 0x1603dad40> with kwargs {'num_generations': 1}\n"
     ]
    },
    {
     "name": "stderr",
     "output_type": "stream",
     "text": [
      " 24%|██▍       | 6/25 [07:30<26:39, 84.17s/it]"
     ]
    },
    {
     "name": "stdout",
     "output_type": "stream",
     "text": [
      "Backing off 0.6 seconds after 1 tries calling function <function Cohere.request at 0x1603dad40> with kwargs {'num_generations': 1}\n",
      "Backing off 1.6 seconds after 2 tries calling function <function Cohere.request at 0x1603dad40> with kwargs {'num_generations': 1}\n",
      "Backing off 3.6 seconds after 3 tries calling function <function Cohere.request at 0x1603dad40> with kwargs {'num_generations': 1}\n",
      "Backing off 5.5 seconds after 4 tries calling function <function Cohere.request at 0x1603dad40> with kwargs {'num_generations': 1}\n",
      "Backing off 8.9 seconds after 5 tries calling function <function Cohere.request at 0x1603dad40> with kwargs {'num_generations': 1}\n"
     ]
    },
    {
     "name": "stderr",
     "output_type": "stream",
     "text": [
      " 28%|██▊       | 7/25 [08:32<23:08, 77.13s/it]"
     ]
    },
    {
     "name": "stdout",
     "output_type": "stream",
     "text": [
      "Backing off 1.0 seconds after 1 tries calling function <function Cohere.request at 0x1603dad40> with kwargs {'num_generations': 1}\n",
      "Backing off 1.0 seconds after 2 tries calling function <function Cohere.request at 0x1603dad40> with kwargs {'num_generations': 1}\n",
      "Backing off 1.4 seconds after 3 tries calling function <function Cohere.request at 0x1603dad40> with kwargs {'num_generations': 1}\n",
      "Backing off 5.5 seconds after 4 tries calling function <function Cohere.request at 0x1603dad40> with kwargs {'num_generations': 1}\n",
      "Backing off 5.6 seconds after 5 tries calling function <function Cohere.request at 0x1603dad40> with kwargs {'num_generations': 1}\n"
     ]
    },
    {
     "name": "stderr",
     "output_type": "stream",
     "text": [
      " 32%|███▏      | 8/25 [09:36<20:38, 72.86s/it]"
     ]
    },
    {
     "name": "stdout",
     "output_type": "stream",
     "text": [
      "Backing off 0.5 seconds after 1 tries calling function <function Cohere.request at 0x1603dad40> with kwargs {'num_generations': 1}\n",
      "Backing off 0.1 seconds after 2 tries calling function <function Cohere.request at 0x1603dad40> with kwargs {'num_generations': 1}\n",
      "Backing off 3.0 seconds after 3 tries calling function <function Cohere.request at 0x1603dad40> with kwargs {'num_generations': 1}\n",
      "Backing off 4.2 seconds after 4 tries calling function <function Cohere.request at 0x1603dad40> with kwargs {'num_generations': 1}\n",
      "Backing off 0.9 seconds after 5 tries calling function <function Cohere.request at 0x1603dad40> with kwargs {'num_generations': 1}\n",
      "Backing off 11.2 seconds after 6 tries calling function <function Cohere.request at 0x1603dad40> with kwargs {'num_generations': 1}\n"
     ]
    },
    {
     "name": "stderr",
     "output_type": "stream",
     "text": [
      " 36%|███▌      | 9/25 [10:47<19:18, 72.44s/it]"
     ]
    },
    {
     "name": "stdout",
     "output_type": "stream",
     "text": [
      "Backing off 0.5 seconds after 1 tries calling function <function Cohere.request at 0x1603dad40> with kwargs {'num_generations': 1}\n",
      "Backing off 1.7 seconds after 2 tries calling function <function Cohere.request at 0x1603dad40> with kwargs {'num_generations': 1}\n",
      "Backing off 2.0 seconds after 3 tries calling function <function Cohere.request at 0x1603dad40> with kwargs {'num_generations': 1}\n",
      "Backing off 2.3 seconds after 4 tries calling function <function Cohere.request at 0x1603dad40> with kwargs {'num_generations': 1}\n",
      "Backing off 6.4 seconds after 5 tries calling function <function Cohere.request at 0x1603dad40> with kwargs {'num_generations': 1}\n"
     ]
    },
    {
     "name": "stderr",
     "output_type": "stream",
     "text": [
      " 40%|████      | 10/25 [11:47<17:04, 68.33s/it]"
     ]
    },
    {
     "name": "stdout",
     "output_type": "stream",
     "text": [
      "Backing off 0.4 seconds after 1 tries calling function <function Cohere.request at 0x1603dad40> with kwargs {'num_generations': 1}\n",
      "Backing off 1.1 seconds after 2 tries calling function <function Cohere.request at 0x1603dad40> with kwargs {'num_generations': 1}\n",
      "Backing off 0.2 seconds after 3 tries calling function <function Cohere.request at 0x1603dad40> with kwargs {'num_generations': 1}\n",
      "Backing off 0.2 seconds after 4 tries calling function <function Cohere.request at 0x1603dad40> with kwargs {'num_generations': 1}\n",
      "Backing off 8.9 seconds after 5 tries calling function <function Cohere.request at 0x1603dad40> with kwargs {'num_generations': 1}\n",
      "Backing off 7.3 seconds after 6 tries calling function <function Cohere.request at 0x1603dad40> with kwargs {'num_generations': 1}\n",
      "Backing off 0.0 seconds after 1 tries calling function <function Cohere.request at 0x1603dad40> with kwargs {'num_generations': 1}\n",
      "Backing off 0.5 seconds after 2 tries calling function <function Cohere.request at 0x1603dad40> with kwargs {'num_generations': 1}\n",
      "Backing off 3.5 seconds after 3 tries calling function <function Cohere.request at 0x1603dad40> with kwargs {'num_generations': 1}\n",
      "Backing off 3.7 seconds after 4 tries calling function <function Cohere.request at 0x1603dad40> with kwargs {'num_generations': 1}\n",
      "Backing off 0.5 seconds after 5 tries calling function <function Cohere.request at 0x1603dad40> with kwargs {'num_generations': 1}\n",
      "Backing off 23.0 seconds after 6 tries calling function <function Cohere.request at 0x1603dad40> with kwargs {'num_generations': 1}\n"
     ]
    },
    {
     "name": "stderr",
     "output_type": "stream",
     "text": [
      " 44%|████▍     | 11/25 [13:59<20:33, 88.08s/it]"
     ]
    },
    {
     "name": "stdout",
     "output_type": "stream",
     "text": [
      "Backing off 0.2 seconds after 1 tries calling function <function Cohere.request at 0x1603dad40> with kwargs {'num_generations': 1}\n",
      "Backing off 2.0 seconds after 2 tries calling function <function Cohere.request at 0x1603dad40> with kwargs {'num_generations': 1}\n",
      "Backing off 0.4 seconds after 3 tries calling function <function Cohere.request at 0x1603dad40> with kwargs {'num_generations': 1}\n",
      "Backing off 1.1 seconds after 4 tries calling function <function Cohere.request at 0x1603dad40> with kwargs {'num_generations': 1}\n",
      "Backing off 2.6 seconds after 5 tries calling function <function Cohere.request at 0x1603dad40> with kwargs {'num_generations': 1}\n",
      "Backing off 23.8 seconds after 6 tries calling function <function Cohere.request at 0x1603dad40> with kwargs {'num_generations': 1}\n"
     ]
    },
    {
     "name": "stderr",
     "output_type": "stream",
     "text": [
      " 48%|████▊     | 12/25 [15:21<18:39, 86.10s/it]"
     ]
    },
    {
     "name": "stdout",
     "output_type": "stream",
     "text": [
      "Backing off 0.6 seconds after 1 tries calling function <function Cohere.request at 0x1603dad40> with kwargs {'num_generations': 1}\n",
      "Backing off 0.7 seconds after 2 tries calling function <function Cohere.request at 0x1603dad40> with kwargs {'num_generations': 1}\n",
      "Backing off 1.0 seconds after 3 tries calling function <function Cohere.request at 0x1603dad40> with kwargs {'num_generations': 1}\n",
      "Backing off 7.5 seconds after 4 tries calling function <function Cohere.request at 0x1603dad40> with kwargs {'num_generations': 1}\n",
      "Backing off 2.6 seconds after 5 tries calling function <function Cohere.request at 0x1603dad40> with kwargs {'num_generations': 1}\n",
      "Backing off 2.1 seconds after 6 tries calling function <function Cohere.request at 0x1603dad40> with kwargs {'num_generations': 1}\n"
     ]
    },
    {
     "name": "stderr",
     "output_type": "stream",
     "text": [
      " 52%|█████▏    | 13/25 [16:27<15:58, 79.87s/it]"
     ]
    },
    {
     "name": "stdout",
     "output_type": "stream",
     "text": [
      "Backing off 0.8 seconds after 1 tries calling function <function Cohere.request at 0x1603dad40> with kwargs {'num_generations': 1}\n",
      "Backing off 1.8 seconds after 2 tries calling function <function Cohere.request at 0x1603dad40> with kwargs {'num_generations': 1}\n",
      "Backing off 1.1 seconds after 3 tries calling function <function Cohere.request at 0x1603dad40> with kwargs {'num_generations': 1}\n",
      "Backing off 2.7 seconds after 4 tries calling function <function Cohere.request at 0x1603dad40> with kwargs {'num_generations': 1}\n",
      "Backing off 8.6 seconds after 5 tries calling function <function Cohere.request at 0x1603dad40> with kwargs {'num_generations': 1}\n"
     ]
    },
    {
     "name": "stderr",
     "output_type": "stream",
     "text": [
      " 56%|█████▌    | 14/25 [17:30<13:43, 74.84s/it]"
     ]
    },
    {
     "name": "stdout",
     "output_type": "stream",
     "text": [
      "Backing off 0.5 seconds after 1 tries calling function <function Cohere.request at 0x1603dad40> with kwargs {'num_generations': 1}\n",
      "Backing off 1.4 seconds after 2 tries calling function <function Cohere.request at 0x1603dad40> with kwargs {'num_generations': 1}\n",
      "Backing off 2.6 seconds after 3 tries calling function <function Cohere.request at 0x1603dad40> with kwargs {'num_generations': 1}\n",
      "Backing off 5.5 seconds after 4 tries calling function <function Cohere.request at 0x1603dad40> with kwargs {'num_generations': 1}\n",
      "Backing off 9.4 seconds after 5 tries calling function <function Cohere.request at 0x1603dad40> with kwargs {'num_generations': 1}\n"
     ]
    },
    {
     "name": "stderr",
     "output_type": "stream",
     "text": [
      " 60%|██████    | 15/25 [18:37<12:06, 72.66s/it]"
     ]
    },
    {
     "name": "stdout",
     "output_type": "stream",
     "text": [
      "Backing off 0.7 seconds after 1 tries calling function <function Cohere.request at 0x1603dad40> with kwargs {'num_generations': 1}\n",
      "Backing off 1.5 seconds after 2 tries calling function <function Cohere.request at 0x1603dad40> with kwargs {'num_generations': 1}\n",
      "Backing off 3.8 seconds after 3 tries calling function <function Cohere.request at 0x1603dad40> with kwargs {'num_generations': 1}\n",
      "Backing off 5.7 seconds after 4 tries calling function <function Cohere.request at 0x1603dad40> with kwargs {'num_generations': 1}\n",
      "Backing off 6.5 seconds after 5 tries calling function <function Cohere.request at 0x1603dad40> with kwargs {'num_generations': 1}\n",
      "Backing off 0.1 seconds after 1 tries calling function <function Cohere.request at 0x1603dad40> with kwargs {'num_generations': 1}\n",
      "Backing off 1.8 seconds after 2 tries calling function <function Cohere.request at 0x1603dad40> with kwargs {'num_generations': 1}\n",
      "Backing off 2.8 seconds after 3 tries calling function <function Cohere.request at 0x1603dad40> with kwargs {'num_generations': 1}\n",
      "Backing off 6.3 seconds after 4 tries calling function <function Cohere.request at 0x1603dad40> with kwargs {'num_generations': 1}\n",
      "Backing off 15.3 seconds after 5 tries calling function <function Cohere.request at 0x1603dad40> with kwargs {'num_generations': 1}\n"
     ]
    },
    {
     "name": "stderr",
     "output_type": "stream",
     "text": [
      " 64%|██████▍   | 16/25 [20:42<13:15, 88.33s/it]"
     ]
    },
    {
     "name": "stdout",
     "output_type": "stream",
     "text": [
      "Backing off 0.5 seconds after 1 tries calling function <function Cohere.request at 0x1603dad40> with kwargs {'num_generations': 1}\n",
      "Backing off 1.5 seconds after 2 tries calling function <function Cohere.request at 0x1603dad40> with kwargs {'num_generations': 1}\n",
      "Backing off 2.6 seconds after 3 tries calling function <function Cohere.request at 0x1603dad40> with kwargs {'num_generations': 1}\n",
      "Backing off 0.7 seconds after 4 tries calling function <function Cohere.request at 0x1603dad40> with kwargs {'num_generations': 1}\n",
      "Backing off 5.9 seconds after 5 tries calling function <function Cohere.request at 0x1603dad40> with kwargs {'num_generations': 1}\n",
      "Backing off 6.7 seconds after 6 tries calling function <function Cohere.request at 0x1603dad40> with kwargs {'num_generations': 1}\n"
     ]
    },
    {
     "name": "stderr",
     "output_type": "stream",
     "text": [
      " 68%|██████▊   | 17/25 [21:50<10:56, 82.09s/it]"
     ]
    },
    {
     "name": "stdout",
     "output_type": "stream",
     "text": [
      "Backing off 0.0 seconds after 1 tries calling function <function Cohere.request at 0x1603dad40> with kwargs {'num_generations': 1}\n",
      "Backing off 1.1 seconds after 2 tries calling function <function Cohere.request at 0x1603dad40> with kwargs {'num_generations': 1}\n",
      "Backing off 2.2 seconds after 3 tries calling function <function Cohere.request at 0x1603dad40> with kwargs {'num_generations': 1}\n",
      "Backing off 1.6 seconds after 4 tries calling function <function Cohere.request at 0x1603dad40> with kwargs {'num_generations': 1}\n",
      "Backing off 12.7 seconds after 5 tries calling function <function Cohere.request at 0x1603dad40> with kwargs {'num_generations': 1}\n"
     ]
    },
    {
     "name": "stderr",
     "output_type": "stream",
     "text": [
      " 72%|███████▏  | 18/25 [22:58<09:06, 78.07s/it]"
     ]
    },
    {
     "name": "stdout",
     "output_type": "stream",
     "text": [
      "Backing off 0.7 seconds after 1 tries calling function <function Cohere.request at 0x1603dad40> with kwargs {'num_generations': 1}\n",
      "Backing off 1.1 seconds after 2 tries calling function <function Cohere.request at 0x1603dad40> with kwargs {'num_generations': 1}\n",
      "Backing off 0.4 seconds after 3 tries calling function <function Cohere.request at 0x1603dad40> with kwargs {'num_generations': 1}\n",
      "Backing off 4.8 seconds after 4 tries calling function <function Cohere.request at 0x1603dad40> with kwargs {'num_generations': 1}\n",
      "Backing off 12.8 seconds after 5 tries calling function <function Cohere.request at 0x1603dad40> with kwargs {'num_generations': 1}\n"
     ]
    },
    {
     "name": "stderr",
     "output_type": "stream",
     "text": [
      " 76%|███████▌  | 19/25 [24:02<07:21, 73.66s/it]"
     ]
    },
    {
     "name": "stdout",
     "output_type": "stream",
     "text": [
      "Backing off 1.0 seconds after 1 tries calling function <function Cohere.request at 0x1603dad40> with kwargs {'num_generations': 1}\n",
      "Backing off 0.5 seconds after 2 tries calling function <function Cohere.request at 0x1603dad40> with kwargs {'num_generations': 1}\n",
      "Backing off 2.8 seconds after 3 tries calling function <function Cohere.request at 0x1603dad40> with kwargs {'num_generations': 1}\n",
      "Backing off 3.0 seconds after 4 tries calling function <function Cohere.request at 0x1603dad40> with kwargs {'num_generations': 1}\n",
      "Backing off 14.4 seconds after 5 tries calling function <function Cohere.request at 0x1603dad40> with kwargs {'num_generations': 1}\n"
     ]
    },
    {
     "name": "stderr",
     "output_type": "stream",
     "text": [
      " 80%|████████  | 20/25 [25:06<05:54, 70.95s/it]"
     ]
    },
    {
     "name": "stdout",
     "output_type": "stream",
     "text": [
      "Backing off 0.4 seconds after 1 tries calling function <function Cohere.request at 0x1603dad40> with kwargs {'num_generations': 1}\n",
      "Backing off 1.6 seconds after 2 tries calling function <function Cohere.request at 0x1603dad40> with kwargs {'num_generations': 1}\n",
      "Backing off 0.3 seconds after 3 tries calling function <function Cohere.request at 0x1603dad40> with kwargs {'num_generations': 1}\n",
      "Backing off 6.4 seconds after 4 tries calling function <function Cohere.request at 0x1603dad40> with kwargs {'num_generations': 1}\n",
      "Backing off 5.2 seconds after 5 tries calling function <function Cohere.request at 0x1603dad40> with kwargs {'num_generations': 1}\n",
      "Backing off 3.9 seconds after 6 tries calling function <function Cohere.request at 0x1603dad40> with kwargs {'num_generations': 1}\n",
      "Backing off 0.2 seconds after 1 tries calling function <function Cohere.request at 0x1603dad40> with kwargs {'num_generations': 1}\n",
      "Backing off 1.4 seconds after 2 tries calling function <function Cohere.request at 0x1603dad40> with kwargs {'num_generations': 1}\n",
      "Backing off 1.1 seconds after 3 tries calling function <function Cohere.request at 0x1603dad40> with kwargs {'num_generations': 1}\n",
      "Backing off 2.5 seconds after 4 tries calling function <function Cohere.request at 0x1603dad40> with kwargs {'num_generations': 1}\n",
      "Backing off 9.3 seconds after 5 tries calling function <function Cohere.request at 0x1603dad40> with kwargs {'num_generations': 1}\n"
     ]
    },
    {
     "name": "stderr",
     "output_type": "stream",
     "text": [
      " 84%|████████▍ | 21/25 [27:03<05:38, 84.54s/it]"
     ]
    },
    {
     "name": "stdout",
     "output_type": "stream",
     "text": [
      "Backing off 0.3 seconds after 1 tries calling function <function Cohere.request at 0x1603dad40> with kwargs {'num_generations': 1}\n",
      "Backing off 0.6 seconds after 2 tries calling function <function Cohere.request at 0x1603dad40> with kwargs {'num_generations': 1}\n",
      "Backing off 3.7 seconds after 3 tries calling function <function Cohere.request at 0x1603dad40> with kwargs {'num_generations': 1}\n",
      "Backing off 4.9 seconds after 4 tries calling function <function Cohere.request at 0x1603dad40> with kwargs {'num_generations': 1}\n",
      "Backing off 3.9 seconds after 5 tries calling function <function Cohere.request at 0x1603dad40> with kwargs {'num_generations': 1}\n",
      "Backing off 27.2 seconds after 6 tries calling function <function Cohere.request at 0x1603dad40> with kwargs {'num_generations': 1}\n"
     ]
    },
    {
     "name": "stderr",
     "output_type": "stream",
     "text": [
      " 88%|████████▊ | 22/25 [28:35<04:20, 86.88s/it]"
     ]
    },
    {
     "name": "stdout",
     "output_type": "stream",
     "text": [
      "Backing off 1.0 seconds after 1 tries calling function <function Cohere.request at 0x1603dad40> with kwargs {'num_generations': 1}\n",
      "Backing off 0.4 seconds after 2 tries calling function <function Cohere.request at 0x1603dad40> with kwargs {'num_generations': 1}\n",
      "Backing off 0.6 seconds after 3 tries calling function <function Cohere.request at 0x1603dad40> with kwargs {'num_generations': 1}\n",
      "Backing off 1.1 seconds after 4 tries calling function <function Cohere.request at 0x1603dad40> with kwargs {'num_generations': 1}\n",
      "Backing off 1.8 seconds after 5 tries calling function <function Cohere.request at 0x1603dad40> with kwargs {'num_generations': 1}\n",
      "Backing off 31.1 seconds after 6 tries calling function <function Cohere.request at 0x1603dad40> with kwargs {'num_generations': 1}\n"
     ]
    },
    {
     "name": "stderr",
     "output_type": "stream",
     "text": [
      " 92%|█████████▏| 23/25 [30:04<02:55, 87.64s/it]"
     ]
    },
    {
     "name": "stdout",
     "output_type": "stream",
     "text": [
      "Backing off 0.7 seconds after 1 tries calling function <function Cohere.request at 0x1603dad40> with kwargs {'num_generations': 1}\n",
      "Backing off 1.3 seconds after 2 tries calling function <function Cohere.request at 0x1603dad40> with kwargs {'num_generations': 1}\n",
      "Backing off 3.5 seconds after 3 tries calling function <function Cohere.request at 0x1603dad40> with kwargs {'num_generations': 1}\n",
      "Backing off 0.3 seconds after 4 tries calling function <function Cohere.request at 0x1603dad40> with kwargs {'num_generations': 1}\n",
      "Backing off 4.9 seconds after 5 tries calling function <function Cohere.request at 0x1603dad40> with kwargs {'num_generations': 1}\n"
     ]
    },
    {
     "name": "stderr",
     "output_type": "stream",
     "text": [
      " 96%|█████████▌| 24/25 [31:14<01:22, 82.36s/it]"
     ]
    },
    {
     "name": "stdout",
     "output_type": "stream",
     "text": [
      "Backing off 0.8 seconds after 1 tries calling function <function Cohere.request at 0x1603dad40> with kwargs {'num_generations': 1}\n",
      "Backing off 0.1 seconds after 2 tries calling function <function Cohere.request at 0x1603dad40> with kwargs {'num_generations': 1}\n",
      "Backing off 3.3 seconds after 3 tries calling function <function Cohere.request at 0x1603dad40> with kwargs {'num_generations': 1}\n",
      "Backing off 4.8 seconds after 4 tries calling function <function Cohere.request at 0x1603dad40> with kwargs {'num_generations': 1}\n",
      "Backing off 5.6 seconds after 5 tries calling function <function Cohere.request at 0x1603dad40> with kwargs {'num_generations': 1}\n"
     ]
    },
    {
     "name": "stderr",
     "output_type": "stream",
     "text": [
      "100%|██████████| 25/25 [32:19<00:00, 77.60s/it]\n"
     ]
    },
    {
     "data": {
      "text/plain": [
       "0.5567965367965368"
      ]
     },
     "execution_count": 101,
     "metadata": {},
     "output_type": "execute_result"
    }
   ],
   "source": [
    "filtering_results = evaluateAnswer(\n",
    "    few_shot_openqa_with_context_and_demo_filtering, tiny_dev)\n"
   ]
  },
  {
   "cell_type": "code",
   "execution_count": 102,
   "id": "769982d1",
   "metadata": {},
   "outputs": [
    {
     "name": "stdout",
     "output_type": "stream",
     "text": [
      "44.0\n",
      "0.5567965367965368\n"
     ]
    }
   ],
   "source": [
    "print(filtering_results['em'])\n",
    "print(filtering_results['f1'])"
   ]
  },
  {
   "cell_type": "code",
   "execution_count": 103,
   "id": "8b89b2b8",
   "metadata": {},
   "outputs": [
    {
     "name": "stdout",
     "output_type": "stream",
     "text": [
      "\n",
      "\n",
      "\n",
      "\n",
      "Answer questions with short factoid answers.\n",
      "\n",
      "---\n",
      "\n",
      "Follow the following format.\n",
      "\n",
      "Context:\n",
      "${sources that may contain relevant content}\n",
      "\n",
      "Question: ${the question to be answered}\n",
      "\n",
      "Answer: ${a short factoid answer, often between 1 and 5 words}\n",
      "\n",
      "---\n",
      "\n",
      "Context:\n",
      "Adult Contemporary (chart) | An article on MTV's website by Corey Moss describes this trend: \"In other words, AC stations are where pop songs go to die a very long death. Or, to optimists, to get a second life.\" One theory states that many adult contemporary stations play less newer music because they also give ample airtime to hits of the past, so the de-emphasis on new songs slows the progression of the AC chart. Also, certain program directors have asserted that AC is a song-based format, as opposed to other radio formats that are infused with singer-based programming, so there is no guarantee\n",
      "\n",
      "Question: What type of music are AC stations noted as playing less of versus hits of the past?\n",
      "\n",
      "Answer: newer music\n",
      "\n",
      "---\n",
      "\n",
      "Context:\n",
      "Mayor of Richmond, Virginia | Mayor of Richmond, Virginia The Mayor of the City of Richmond, Virginia is head of the executive branch of Richmond, Virginia's city government. The mayor's office administers all city services, public property, police and fire protection, most public agencies, and enforces all city, state and federal laws within Richmond, Virginia. The mayor looks over a city budget at roughly $765 million a year. The current mayor is Democrat Levar Stoney, who was elected on November 8, 2016. Stoney took office on December 31, 2016. The mayor of Richmond contains a multi-member cabinet of advisers that assist the mayor on city\n",
      "\n",
      "Question: What official is in charge of Richmond's executive branch?\n",
      "\n",
      "Answer: mayor\n",
      "\n",
      "---\n",
      "\n",
      "Context:\n",
      "Joe Simon | Joe Simon Joseph Henry \"Joe\" Simon (born Hymie Simon; October 11, 1913 – December 14, 2011) was an American comic book writer, artist, editor, and publisher. Simon created or co-created many important characters like Captain America in the 1930s–1940s Golden Age of Comic Books and served as the first editor of Timely Comics, the company that would evolve into Marvel Comics. With his partner, artist Jack Kirby, he co-created Captain America, one of comics' most enduring superheroes, and the team worked extensively on such features at DC Comics as the 1940s Sandman and Sandy the Golden Boy, and co-created the\n",
      "\n",
      "Question: Besides Simon, who co-created Captain America?\n",
      "\n",
      "Answer: Jack Kirby\n",
      "\n",
      "---\n",
      "\n",
      "Context:\n",
      "Chronic inflammatory demyelinating polyneuropathy | such as nurse administration. Immunosuppressive drugs are often of the cytotoxic (chemotherapy) class, including rituximab (Rituxan) which targets B cells, and cyclophosphamide, a drug which reduces the function of the immune system. Ciclosporin has also been used in CIDP but with less frequency as it is a newer approach. Ciclosporin is thought to bind to immunocompetent lymphocytes, especially T-lymphocytes. Non-cytotoxic immunosuppressive treatments usually include the anti-rejection transplant drugs azathioprine (Imuran/Azoran) and mycophenolate mofetil (Cellcept). In the U.S., these drugs are used \"off-label\", meaning that they do not have an indication for the treatment of CIDP in their package inserts. Before\n",
      "\n",
      "Question: What are two examples of cytotoxic or immunosuppressive drugs?\n",
      "\n",
      "Answer:\u001b[32m rituximab (Rituxan), cyclophosphamide\u001b[0m\n",
      "\n",
      "\n",
      "\n"
     ]
    }
   ],
   "source": [
    "lm.inspect_history(n=1)"
   ]
  },
  {
   "cell_type": "markdown",
   "id": "19655d70-007c-4a41-9f3b-e20df9c5169b",
   "metadata": {},
   "source": [
    "## Question 3: Your original system [3 points]"
   ]
  },
  {
   "cell_type": "markdown",
   "id": "2d8d268f-70e1-4325-a2ff-7361d73788b9",
   "metadata": {},
   "source": [
    "This question asks you to design your own few-shot OpenQA system. All of the code above can be used and modified for this, and the requirement is just that you try something new that goes beyond what we've done so far. \n",
    "\n",
    "Terms for the bake-off:\n",
    "\n",
    "* You can make free use of SQuAD and other publicly available data.\n",
    "\n",
    "* The LM must be an autoregressive language model. No trained QA components can be used. This includes general purpose LMs that have been fine-tuned for QA. (We have obviously waded into some vague territory here. The spirit of this is to make use of frozen, general-purpose models. We welcome questions about exactly how this is defined, since it could be instructive to explore this.)\n",
    "\n",
    "Here are some ideas for the original system:\n",
    "\n",
    "* We have so far sampled randomly from the SQuaD train set to create few-shot prompts. One might instead sample passages that have some connection to the target question. See `dsp.knn`, for example.\n",
    "\n",
    "* There are a lot of parameters to our LMs that we have so far ignored. Exploring different values might lead to better results. The `temperature` parameter is highly impactful for our task.\n",
    "\n",
    "* We have so far made no use of the scores from the LM or the RM.\n",
    "\n",
    "* We have so far made no use of DSP's functionality for self-consistency. See the DPS intro notebook for examples.\n",
    "\n",
    "__Original system instructions__:\n",
    "\n",
    "In the cell below, please provide a brief technical description of your original system, so that the teaching team can gain an understanding of what it does. This will help us to understand your code and analyze all the submissions to identify patterns and strategies."
   ]
  },
  {
   "cell_type": "code",
   "execution_count": null,
   "id": "b557f3c3-ee72-480e-9d99-9095372f99c4",
   "metadata": {},
   "outputs": [],
   "source": [
    "# PLEASE MAKE SURE TO INCLUDE THE FOLLOWING BETWEEN THE START AND STOP COMMENTS:\n",
    "#   1) Textual description of your system.\n",
    "#   2) The code for your original system.\n",
    "# PLEASE MAKE SURE NOT TO DELETE OR EDIT THE START AND STOP COMMENTS\n",
    "\n",
    "# START COMMENT: Enter your system description in this cell.\n",
    "\n",
    "\n",
    "# STOP COMMENT: Please do not remove this comment."
   ]
  },
  {
   "cell_type": "code",
   "execution_count": 135,
   "id": "a7ee2bbe",
   "metadata": {},
   "outputs": [
    {
     "data": {
      "application/vnd.jupyter.widget-view+json": {
       "model_id": "32f6e10d1de144858df942523fbb511f",
       "version_major": 2,
       "version_minor": 0
      },
      "text/plain": [
       "Downloading (…)e9125/.gitattributes:   0%|          | 0.00/1.18k [00:00<?, ?B/s]"
      ]
     },
     "metadata": {},
     "output_type": "display_data"
    },
    {
     "data": {
      "application/vnd.jupyter.widget-view+json": {
       "model_id": "0d193323f3e74dfeb104f79f02388e49",
       "version_major": 2,
       "version_minor": 0
      },
      "text/plain": [
       "Downloading (…)_Pooling/config.json:   0%|          | 0.00/190 [00:00<?, ?B/s]"
      ]
     },
     "metadata": {},
     "output_type": "display_data"
    },
    {
     "data": {
      "application/vnd.jupyter.widget-view+json": {
       "model_id": "00e66eea98504d16b97ffafddc5db8c8",
       "version_major": 2,
       "version_minor": 0
      },
      "text/plain": [
       "Downloading (…)7e55de9125/README.md:   0%|          | 0.00/10.6k [00:00<?, ?B/s]"
      ]
     },
     "metadata": {},
     "output_type": "display_data"
    },
    {
     "data": {
      "application/vnd.jupyter.widget-view+json": {
       "model_id": "af595fae61ea4d91a71541788d4b685e",
       "version_major": 2,
       "version_minor": 0
      },
      "text/plain": [
       "Downloading (…)55de9125/config.json:   0%|          | 0.00/612 [00:00<?, ?B/s]"
      ]
     },
     "metadata": {},
     "output_type": "display_data"
    },
    {
     "data": {
      "application/vnd.jupyter.widget-view+json": {
       "model_id": "ba3578b4eddc443cafd669bc3551cc2c",
       "version_major": 2,
       "version_minor": 0
      },
      "text/plain": [
       "Downloading (…)ce_transformers.json:   0%|          | 0.00/116 [00:00<?, ?B/s]"
      ]
     },
     "metadata": {},
     "output_type": "display_data"
    },
    {
     "data": {
      "application/vnd.jupyter.widget-view+json": {
       "model_id": "0a1ea1208e794269876b082e600b6c4d",
       "version_major": 2,
       "version_minor": 0
      },
      "text/plain": [
       "Downloading (…)125/data_config.json:   0%|          | 0.00/39.3k [00:00<?, ?B/s]"
      ]
     },
     "metadata": {},
     "output_type": "display_data"
    },
    {
     "data": {
      "application/vnd.jupyter.widget-view+json": {
       "model_id": "f5ce3c3bc3da4bde9b8768d1032f6127",
       "version_major": 2,
       "version_minor": 0
      },
      "text/plain": [
       "Downloading pytorch_model.bin:   0%|          | 0.00/90.9M [00:00<?, ?B/s]"
      ]
     },
     "metadata": {},
     "output_type": "display_data"
    },
    {
     "data": {
      "application/vnd.jupyter.widget-view+json": {
       "model_id": "9ff9bf0142d747dd9ecc56896e079c4d",
       "version_major": 2,
       "version_minor": 0
      },
      "text/plain": [
       "Downloading (…)nce_bert_config.json:   0%|          | 0.00/53.0 [00:00<?, ?B/s]"
      ]
     },
     "metadata": {},
     "output_type": "display_data"
    },
    {
     "data": {
      "application/vnd.jupyter.widget-view+json": {
       "model_id": "02620fb783734d7293ba3b3f0957365f",
       "version_major": 2,
       "version_minor": 0
      },
      "text/plain": [
       "Downloading (…)cial_tokens_map.json:   0%|          | 0.00/112 [00:00<?, ?B/s]"
      ]
     },
     "metadata": {},
     "output_type": "display_data"
    },
    {
     "data": {
      "application/vnd.jupyter.widget-view+json": {
       "model_id": "85963eaf02ac421680a2af9534fd51a1",
       "version_major": 2,
       "version_minor": 0
      },
      "text/plain": [
       "Downloading (…)e9125/tokenizer.json:   0%|          | 0.00/466k [00:00<?, ?B/s]"
      ]
     },
     "metadata": {},
     "output_type": "display_data"
    },
    {
     "data": {
      "application/vnd.jupyter.widget-view+json": {
       "model_id": "0f00b18be4a34edd93a3cf7d9faeaedc",
       "version_major": 2,
       "version_minor": 0
      },
      "text/plain": [
       "Downloading (…)okenizer_config.json:   0%|          | 0.00/350 [00:00<?, ?B/s]"
      ]
     },
     "metadata": {},
     "output_type": "display_data"
    },
    {
     "data": {
      "application/vnd.jupyter.widget-view+json": {
       "model_id": "018cd7be19c94a9b8eee18dd273305e1",
       "version_major": 2,
       "version_minor": 0
      },
      "text/plain": [
       "Downloading (…)9125/train_script.py:   0%|          | 0.00/13.2k [00:00<?, ?B/s]"
      ]
     },
     "metadata": {},
     "output_type": "display_data"
    },
    {
     "data": {
      "application/vnd.jupyter.widget-view+json": {
       "model_id": "7f218170e717495ca2aa819af6deca20",
       "version_major": 2,
       "version_minor": 0
      },
      "text/plain": [
       "Downloading (…)7e55de9125/vocab.txt:   0%|          | 0.00/232k [00:00<?, ?B/s]"
      ]
     },
     "metadata": {},
     "output_type": "display_data"
    },
    {
     "data": {
      "application/vnd.jupyter.widget-view+json": {
       "model_id": "919c75ed01664b73a5b26992188c2778",
       "version_major": 2,
       "version_minor": 0
      },
      "text/plain": [
       "Downloading (…)5de9125/modules.json:   0%|          | 0.00/349 [00:00<?, ?B/s]"
      ]
     },
     "metadata": {},
     "output_type": "display_data"
    }
   ],
   "source": [
    "dsp.settings.vectorizer = dsp.sentence_vectorizer.SentenceTransformersVectorizer()"
   ]
  },
  {
   "cell_type": "code",
   "execution_count": 136,
   "id": "3e9ecf16",
   "metadata": {},
   "outputs": [],
   "source": [
    "\n",
    "# @dsp.transformation\n",
    "# def few_shot_qa_with_context(example, train=squad_train, k=3):\n",
    "#     example.demos = dsp.sample(train, k=k)\n",
    "#     generator = dsp.generate(qa_template_with_passages)\n",
    "#     example, completions = generator(example, stage='qa')\n",
    "#     return completions\n",
    "\n",
    "@dsp.transformation\n",
    "def few_shot_openqa_zq(example, train=squad_train, k=3):\n",
    "\n",
    "    # Sample 20 demonstrations:\n",
    "    ##### YOUR CODE HERE\n",
    "    # demos = dsp.sample(train, k=k)\n",
    "    demos = dsp.knn(train)(example, k)\n",
    "    # demos = dsp.annotate(filter_demos)(demos, k=k)\n",
    "    example.demos = demos\n",
    "    example.context = dsp.retrieve(example.question, k=1)[0]\n",
    "    ex, ex_compl = dsp.generate(qa_template_with_passages)(example, stage='qa')\n",
    "    return ex_compl\n",
    "\n",
    "\n"
   ]
  },
  {
   "cell_type": "code",
   "execution_count": 113,
   "id": "61e19c98",
   "metadata": {},
   "outputs": [
    {
     "name": "stderr",
     "output_type": "stream",
     "text": [
      " 20%|██        | 5/25 [00:10<00:41,  2.05s/it]"
     ]
    },
    {
     "name": "stdout",
     "output_type": "stream",
     "text": [
      "Backing off 0.0 seconds after 1 tries calling function <function Cohere.request at 0x1603dad40> with kwargs {'num_generations': 1}\n",
      "Backing off 0.9 seconds after 2 tries calling function <function Cohere.request at 0x1603dad40> with kwargs {'num_generations': 1}\n",
      "Backing off 2.7 seconds after 3 tries calling function <function Cohere.request at 0x1603dad40> with kwargs {'num_generations': 1}\n",
      "Backing off 5.5 seconds after 4 tries calling function <function Cohere.request at 0x1603dad40> with kwargs {'num_generations': 1}\n",
      "Backing off 14.5 seconds after 5 tries calling function <function Cohere.request at 0x1603dad40> with kwargs {'num_generations': 1}\n"
     ]
    },
    {
     "name": "stderr",
     "output_type": "stream",
     "text": [
      " 40%|████      | 10/25 [01:13<01:30,  6.05s/it]"
     ]
    },
    {
     "name": "stdout",
     "output_type": "stream",
     "text": [
      "Backing off 0.1 seconds after 1 tries calling function <function Cohere.request at 0x1603dad40> with kwargs {'num_generations': 1}\n",
      "Backing off 1.5 seconds after 2 tries calling function <function Cohere.request at 0x1603dad40> with kwargs {'num_generations': 1}\n",
      "Backing off 0.7 seconds after 3 tries calling function <function Cohere.request at 0x1603dad40> with kwargs {'num_generations': 1}\n",
      "Backing off 0.2 seconds after 4 tries calling function <function Cohere.request at 0x1603dad40> with kwargs {'num_generations': 1}\n",
      "Backing off 1.3 seconds after 5 tries calling function <function Cohere.request at 0x1603dad40> with kwargs {'num_generations': 1}\n",
      "Backing off 24.2 seconds after 6 tries calling function <function Cohere.request at 0x1603dad40> with kwargs {'num_generations': 1}\n"
     ]
    },
    {
     "name": "stderr",
     "output_type": "stream",
     "text": [
      " 60%|██████    | 15/25 [02:29<01:15,  7.55s/it]"
     ]
    },
    {
     "name": "stdout",
     "output_type": "stream",
     "text": [
      "Backing off 0.1 seconds after 1 tries calling function <function Cohere.request at 0x1603dad40> with kwargs {'num_generations': 1}\n",
      "Backing off 0.2 seconds after 2 tries calling function <function Cohere.request at 0x1603dad40> with kwargs {'num_generations': 1}\n",
      "Backing off 2.9 seconds after 3 tries calling function <function Cohere.request at 0x1603dad40> with kwargs {'num_generations': 1}\n",
      "Backing off 1.8 seconds after 4 tries calling function <function Cohere.request at 0x1603dad40> with kwargs {'num_generations': 1}\n",
      "Backing off 8.2 seconds after 5 tries calling function <function Cohere.request at 0x1603dad40> with kwargs {'num_generations': 1}\n",
      "Backing off 17.1 seconds after 6 tries calling function <function Cohere.request at 0x1603dad40> with kwargs {'num_generations': 1}\n"
     ]
    },
    {
     "name": "stderr",
     "output_type": "stream",
     "text": [
      " 80%|████████  | 20/25 [03:47<00:42,  8.44s/it]"
     ]
    },
    {
     "name": "stdout",
     "output_type": "stream",
     "text": [
      "Backing off 0.8 seconds after 1 tries calling function <function Cohere.request at 0x1603dad40> with kwargs {'num_generations': 1}\n",
      "Backing off 1.9 seconds after 2 tries calling function <function Cohere.request at 0x1603dad40> with kwargs {'num_generations': 1}\n",
      "Backing off 0.6 seconds after 3 tries calling function <function Cohere.request at 0x1603dad40> with kwargs {'num_generations': 1}\n",
      "Backing off 1.3 seconds after 4 tries calling function <function Cohere.request at 0x1603dad40> with kwargs {'num_generations': 1}\n",
      "Backing off 12.1 seconds after 5 tries calling function <function Cohere.request at 0x1603dad40> with kwargs {'num_generations': 1}\n"
     ]
    },
    {
     "name": "stderr",
     "output_type": "stream",
     "text": [
      "100%|██████████| 25/25 [04:46<00:00, 11.44s/it]"
     ]
    },
    {
     "name": "stdout",
     "output_type": "stream",
     "text": [
      "44.0\n",
      "0.5586147186147186\n"
     ]
    },
    {
     "name": "stderr",
     "output_type": "stream",
     "text": [
      "\n"
     ]
    }
   ],
   "source": [
    "filtering_results = evaluateAnswer(few_shot_openqa_zq, tiny_dev)\n",
    "\n",
    "print(filtering_results[\"em\"])\n",
    "print(filtering_results[\"f1\"])"
   ]
  },
  {
   "cell_type": "code",
   "execution_count": 137,
   "id": "b26a45e3",
   "metadata": {},
   "outputs": [
    {
     "name": "stderr",
     "output_type": "stream",
     "text": [
      "100%|██████████| 25/25 [49:06<00:00, 117.87s/it]"
     ]
    },
    {
     "name": "stdout",
     "output_type": "stream",
     "text": [
      "40.0\n",
      "0.4716666666666666\n"
     ]
    },
    {
     "name": "stderr",
     "output_type": "stream",
     "text": [
      "\n"
     ]
    }
   ],
   "source": [
    "filtering_results = evaluateAnswer(few_shot_openqa_zq, tiny_dev)\n",
    "\n",
    "print(filtering_results[\"em\"])\n",
    "print(filtering_results[\"f1\"])"
   ]
  },
  {
   "cell_type": "markdown",
   "id": "c5b39c60-7494-46a6-b450-42b7e9fe3aad",
   "metadata": {},
   "source": [
    "## Question 4: Bakeoff entry [1 point]"
   ]
  },
  {
   "cell_type": "markdown",
   "id": "cff871c1-cc38-4e2f-af38-45b3619e8329",
   "metadata": {},
   "source": [
    "For the bake-off, you simply need to be able to run your system on the file \n",
    "\n",
    "```data/openqa/cs224u-openqa-test-unlabeled.txt```\n",
    "\n",
    "The following code should download it for you if necessary:"
   ]
  },
  {
   "cell_type": "code",
   "execution_count": null,
   "id": "4ca87f81-556b-46eb-904f-a3df70fdacb5",
   "metadata": {},
   "outputs": [],
   "source": [
    "if not os.path.exists(os.path.join(\"data\", \"openqa\", \"cs224u-openqa-test-unlabeled.txt\")):\n",
    "    !mkdir -p data/openqa\n",
    "    !wget https://web.stanford.edu/class/cs224u/data/cs224u-openqa-test-unlabeled.txt -P data/openqa/"
   ]
  },
  {
   "cell_type": "markdown",
   "id": "68d0024b-9af7-4e3b-930e-1e7603d4d85c",
   "metadata": {},
   "source": [
    "If the above fails, you can just download https://web.stanford.edu/class/cs224u/data/cs224u-openqa-test-unlabeled.txt and place it in `data/openqa`.\n",
    "\n",
    "This file contains only questions. The starter code below will help you structure this. It writes a file \"cs224u-openqa-bakeoff-entry.json\" to the current directory. That file should be uploaded as-is. Please do not change its name."
   ]
  },
  {
   "cell_type": "code",
   "execution_count": null,
   "id": "403b0000-5bc0-4657-91e4-5a6e87f2f899",
   "metadata": {},
   "outputs": [],
   "source": [
    "import json\n",
    "\n",
    "def create_bakeoff_submission(fn):\n",
    "    \"\"\"\"\n",
    "    The argument `fn` is a DSP program with the same signature as the \n",
    "    ones we wrote above: `dsp.Example` to `dsp.Completions`.\n",
    "    \"\"\"\n",
    "\n",
    "    filename = os.path.join(\"data\", \"openqa\", \"cs224u-openqa-test-unlabeled.txt\")\n",
    "\n",
    "    # This should become a mapping from questions (str) to response\n",
    "    # dicts from your system.\n",
    "    gens = {} \n",
    "\n",
    "    with open(filename) as f:\n",
    "        questions = f.read().splitlines()\n",
    "\n",
    "    questions = [dsp.Example(question=q) for q in questions]\n",
    "\n",
    "    # `questions` is the list of `dsp.Example` instances you need to \n",
    "    # evaluate your system on. \n",
    "    #\n",
    "    # Here we loop over the questions, run the system `fn`, and\n",
    "    # store its `answer` value as the prediction:\n",
    "    for question in tqdm.tqdm(questions):\n",
    "        gens[question.question] = fn(question).answer\n",
    "\n",
    "    # Quick tests we advise you to run: \n",
    "    # 1. Make sure `gens` is a dict with the questions as the keys:\n",
    "    assert all(q.question in gens for q in questions)\n",
    "    # 2. Make sure the values are dicts and have the key we will use:\n",
    "    assert all(isinstance(d, str) for d in gens.values())\n",
    "\n",
    "    # And finally the output file:\n",
    "    with open(\"cs224u-openqa-bakeoff-entry.json\", \"wt\") as f:\n",
    "        json.dump(gens, f, indent=4)"
   ]
  },
  {
   "cell_type": "markdown",
   "id": "cc0f32a8-547e-4a2c-8283-44adf69657ed",
   "metadata": {},
   "source": [
    "Here's what it looks like to evaluate our first program, `few_shot_openqa`, on the bakeoff data:"
   ]
  },
  {
   "cell_type": "code",
   "execution_count": null,
   "id": "ce20e9ae-bb82-4dff-896f-aad7f150177d",
   "metadata": {},
   "outputs": [],
   "source": [
    "# create_bakeoff_submission(few_shot_openqa_with_context)"
   ]
  }
 ],
 "metadata": {
  "kernelspec": {
   "display_name": "Python 3 (ipykernel)",
   "language": "python",
   "name": "python3"
  },
  "language_info": {
   "codemirror_mode": {
    "name": "ipython",
    "version": 3
   },
   "file_extension": ".py",
   "mimetype": "text/x-python",
   "name": "python",
   "nbconvert_exporter": "python",
   "pygments_lexer": "ipython3",
   "version": "3.11.5"
  }
 },
 "nbformat": 4,
 "nbformat_minor": 5
}
